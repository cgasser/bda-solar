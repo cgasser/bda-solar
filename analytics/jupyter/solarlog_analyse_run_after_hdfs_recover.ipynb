{
 "cells": [
  {
   "cell_type": "markdown",
   "metadata": {
    "extensions": {
     "jupyter_dashboards": {
      "version": 1,
      "views": {
       "grid_default": {
        "col": 0,
        "height": 4,
        "hidden": false,
        "row": 0,
        "width": 12
       },
       "report_default": {}
      }
     }
    }
   },
   "source": [
    "# Solarlog Data Analyse\n",
    "This Kernal gives an overview about the PV-Data over all sourced plants.\n",
    "\n",
    "It takes about 2 min to run the whole notebook."
   ]
  },
  {
   "cell_type": "markdown",
   "metadata": {
    "extensions": {
     "jupyter_dashboards": {
      "version": 1,
      "views": {
       "grid_default": {
        "col": 0,
        "height": 4,
        "hidden": false,
        "row": 4,
        "width": 4
       },
       "report_default": {}
      }
     }
    }
   },
   "source": [
    "## Import"
   ]
  },
  {
   "cell_type": "markdown",
   "metadata": {
    "extensions": {
     "jupyter_dashboards": {
      "version": 1,
      "views": {
       "grid_default": {
        "col": 4,
        "height": 4,
        "hidden": false,
        "row": 4,
        "width": 4
       },
       "report_default": {}
      }
     }
    }
   },
   "source": [
    "More information about impyla see here: https://github.com/cloudera/impyla."
   ]
  },
  {
   "cell_type": "code",
   "execution_count": 1,
   "metadata": {
    "ExecuteTime": {
     "end_time": "2018-03-18T16:47:39.921519Z",
     "start_time": "2018-03-18T16:47:38.530344Z"
    },
    "extensions": {
     "jupyter_dashboards": {
      "version": 1,
      "views": {
       "grid_default": {
        "hidden": true
       },
       "report_default": {}
      }
     }
    }
   },
   "outputs": [],
   "source": [
    "from impala.dbapi import connect \n",
    "from impala.util import as_pandas\n",
    "import pandas as pd # For Data Handling\n",
    "import numpy as np  # data processing, CSV file I/O (e.g. pd.read_csv)\n",
    "import math as mt\n",
    "import datetime as dt # To convert timestamp data\n",
    "import matplotlib   #for plots\n",
    "import matplotlib.pyplot as plt\n",
    "import seaborn as sns\n",
    "\n",
    "sns.set(color_codes=True)\n",
    "matplotlib.style.use('ggplot')\n",
    "%matplotlib inline"
   ]
  },
  {
   "cell_type": "markdown",
   "metadata": {
    "extensions": {
     "jupyter_dashboards": {
      "version": 1,
      "views": {
       "grid_default": {
        "col": 8,
        "height": 4,
        "hidden": false,
        "row": 4,
        "width": 4
       },
       "report_default": {}
      }
     }
    }
   },
   "source": [
    "## Load Data from HDFS with Impala"
   ]
  },
  {
   "cell_type": "markdown",
   "metadata": {
    "extensions": {
     "jupyter_dashboards": {
      "version": 1,
      "views": {
       "grid_default": {
        "col": 0,
        "height": 4,
        "hidden": false,
        "row": 8,
        "width": 4
       },
       "report_default": {}
      }
     }
    }
   },
   "source": [
    "Die folgende querry benötigt 91s"
   ]
  },
  {
   "cell_type": "code",
   "execution_count": 2,
   "metadata": {
    "ExecuteTime": {
     "end_time": "2018-03-18T16:49:10.167104Z",
     "start_time": "2018-03-18T16:47:39.924938Z"
    },
    "extensions": {
     "jupyter_dashboards": {
      "version": 1,
      "views": {
       "grid_default": {
        "col": 4,
        "height": 7,
        "hidden": false,
        "row": 8,
        "width": 4
       },
       "report_default": {}
      }
     }
    }
   },
   "outputs": [
    {
     "ename": "TTransportException",
     "evalue": "TTransportException(message=\"Could not connect to ('172.16.10.102', 21050)\", type=1)",
     "output_type": "error",
     "traceback": [
      "\u001b[0;31m---------------------------------------------------------------------------\u001b[0m",
      "\u001b[0;31mTimeoutError\u001b[0m                              Traceback (most recent call last)",
      "\u001b[0;32m/usr/local/lib/python3.5/dist-packages/thriftpy/transport/socket.py\u001b[0m in \u001b[0;36mopen\u001b[0;34m(self)\u001b[0m\n\u001b[1;32m     95\u001b[0m \u001b[0;34m\u001b[0m\u001b[0m\n\u001b[0;32m---> 96\u001b[0;31m             \u001b[0mself\u001b[0m\u001b[0;34m.\u001b[0m\u001b[0msock\u001b[0m\u001b[0;34m.\u001b[0m\u001b[0mconnect\u001b[0m\u001b[0;34m(\u001b[0m\u001b[0maddr\u001b[0m\u001b[0;34m)\u001b[0m\u001b[0;34m\u001b[0m\u001b[0m\n\u001b[0m\u001b[1;32m     97\u001b[0m \u001b[0;34m\u001b[0m\u001b[0m\n",
      "\u001b[0;31mTimeoutError\u001b[0m: [Errno 110] Connection timed out",
      "\nDuring handling of the above exception, another exception occurred:\n",
      "\u001b[0;31mTTransportException\u001b[0m                       Traceback (most recent call last)",
      "\u001b[0;32m<ipython-input-2-52341c1c0774>\u001b[0m in \u001b[0;36m<module>\u001b[0;34m()\u001b[0m\n\u001b[0;32m----> 1\u001b[0;31m \u001b[0mconn\u001b[0m \u001b[0;34m=\u001b[0m \u001b[0mconnect\u001b[0m\u001b[0;34m(\u001b[0m\u001b[0mhost\u001b[0m\u001b[0;34m=\u001b[0m\u001b[0;34m'172.16.10.102'\u001b[0m\u001b[0;34m,\u001b[0m \u001b[0mport\u001b[0m\u001b[0;34m=\u001b[0m\u001b[0;36m21050\u001b[0m\u001b[0;34m)\u001b[0m\u001b[0;34m\u001b[0m\u001b[0m\n\u001b[0m\u001b[1;32m      2\u001b[0m \u001b[0mcur\u001b[0m \u001b[0;34m=\u001b[0m \u001b[0mconn\u001b[0m\u001b[0;34m.\u001b[0m\u001b[0mcursor\u001b[0m\u001b[0;34m(\u001b[0m\u001b[0;34m)\u001b[0m\u001b[0;34m\u001b[0m\u001b[0m\n\u001b[1;32m      3\u001b[0m \u001b[0mcur\u001b[0m\u001b[0;34m.\u001b[0m\u001b[0mexecute\u001b[0m\u001b[0;34m(\u001b[0m\u001b[0;34m'refresh solarlog_roh'\u001b[0m\u001b[0;34m)\u001b[0m\u001b[0;34m\u001b[0m\u001b[0m\n\u001b[1;32m      4\u001b[0m \u001b[0mcur\u001b[0m\u001b[0;34m.\u001b[0m\u001b[0mexecute\u001b[0m\u001b[0;34m(\u001b[0m\u001b[0;34m'SELECT `timestamp`,cur_yield_watt,plantname FROM solarlog_roh order by `timestamp` limit 150000'\u001b[0m\u001b[0;34m)\u001b[0m\u001b[0;34m\u001b[0m\u001b[0m\n\u001b[1;32m      5\u001b[0m \u001b[0mdfp\u001b[0m \u001b[0;34m=\u001b[0m \u001b[0mas_pandas\u001b[0m\u001b[0;34m(\u001b[0m\u001b[0mcur\u001b[0m\u001b[0;34m)\u001b[0m\u001b[0;34m\u001b[0m\u001b[0m\n",
      "\u001b[0;32m/usr/local/lib/python3.5/dist-packages/impala/dbapi.py\u001b[0m in \u001b[0;36mconnect\u001b[0;34m(host, port, database, timeout, use_ssl, ca_cert, auth_mechanism, user, password, kerberos_service_name, use_ldap, ldap_user, ldap_password, use_kerberos, protocol)\u001b[0m\n\u001b[1;32m    145\u001b[0m                           \u001b[0mca_cert\u001b[0m\u001b[0;34m=\u001b[0m\u001b[0mca_cert\u001b[0m\u001b[0;34m,\u001b[0m \u001b[0muser\u001b[0m\u001b[0;34m=\u001b[0m\u001b[0muser\u001b[0m\u001b[0;34m,\u001b[0m \u001b[0mpassword\u001b[0m\u001b[0;34m=\u001b[0m\u001b[0mpassword\u001b[0m\u001b[0;34m,\u001b[0m\u001b[0;34m\u001b[0m\u001b[0m\n\u001b[1;32m    146\u001b[0m                           \u001b[0mkerberos_service_name\u001b[0m\u001b[0;34m=\u001b[0m\u001b[0mkerberos_service_name\u001b[0m\u001b[0;34m,\u001b[0m\u001b[0;34m\u001b[0m\u001b[0m\n\u001b[0;32m--> 147\u001b[0;31m                           auth_mechanism=auth_mechanism)\n\u001b[0m\u001b[1;32m    148\u001b[0m     \u001b[0;32mreturn\u001b[0m \u001b[0mhs2\u001b[0m\u001b[0;34m.\u001b[0m\u001b[0mHiveServer2Connection\u001b[0m\u001b[0;34m(\u001b[0m\u001b[0mservice\u001b[0m\u001b[0;34m,\u001b[0m \u001b[0mdefault_db\u001b[0m\u001b[0;34m=\u001b[0m\u001b[0mdatabase\u001b[0m\u001b[0;34m)\u001b[0m\u001b[0;34m\u001b[0m\u001b[0m\n\u001b[1;32m    149\u001b[0m \u001b[0;34m\u001b[0m\u001b[0m\n",
      "\u001b[0;32m/usr/local/lib/python3.5/dist-packages/impala/hiveserver2.py\u001b[0m in \u001b[0;36mconnect\u001b[0;34m(host, port, timeout, use_ssl, ca_cert, user, password, kerberos_service_name, auth_mechanism)\u001b[0m\n\u001b[1;32m    756\u001b[0m     transport = get_transport(sock, host, kerberos_service_name,\n\u001b[1;32m    757\u001b[0m                               auth_mechanism, user, password)\n\u001b[0;32m--> 758\u001b[0;31m     \u001b[0mtransport\u001b[0m\u001b[0;34m.\u001b[0m\u001b[0mopen\u001b[0m\u001b[0;34m(\u001b[0m\u001b[0;34m)\u001b[0m\u001b[0;34m\u001b[0m\u001b[0m\n\u001b[0m\u001b[1;32m    759\u001b[0m     \u001b[0mprotocol\u001b[0m \u001b[0;34m=\u001b[0m \u001b[0mTBinaryProtocol\u001b[0m\u001b[0;34m(\u001b[0m\u001b[0mtransport\u001b[0m\u001b[0;34m)\u001b[0m\u001b[0;34m\u001b[0m\u001b[0m\n\u001b[1;32m    760\u001b[0m     \u001b[0;32mif\u001b[0m \u001b[0msix\u001b[0m\u001b[0;34m.\u001b[0m\u001b[0mPY2\u001b[0m\u001b[0;34m:\u001b[0m\u001b[0;34m\u001b[0m\u001b[0m\n",
      "\u001b[0;32m/usr/local/lib/python3.5/dist-packages/thriftpy/transport/buffered/__init__.py\u001b[0m in \u001b[0;36mopen\u001b[0;34m(self)\u001b[0m\n\u001b[1;32m     27\u001b[0m \u001b[0;34m\u001b[0m\u001b[0m\n\u001b[1;32m     28\u001b[0m     \u001b[0;32mdef\u001b[0m \u001b[0mopen\u001b[0m\u001b[0;34m(\u001b[0m\u001b[0mself\u001b[0m\u001b[0;34m)\u001b[0m\u001b[0;34m:\u001b[0m\u001b[0;34m\u001b[0m\u001b[0m\n\u001b[0;32m---> 29\u001b[0;31m         \u001b[0;32mreturn\u001b[0m \u001b[0mself\u001b[0m\u001b[0;34m.\u001b[0m\u001b[0m_trans\u001b[0m\u001b[0;34m.\u001b[0m\u001b[0mopen\u001b[0m\u001b[0;34m(\u001b[0m\u001b[0;34m)\u001b[0m\u001b[0;34m\u001b[0m\u001b[0m\n\u001b[0m\u001b[1;32m     30\u001b[0m \u001b[0;34m\u001b[0m\u001b[0m\n\u001b[1;32m     31\u001b[0m     \u001b[0;32mdef\u001b[0m \u001b[0mclose\u001b[0m\u001b[0;34m(\u001b[0m\u001b[0mself\u001b[0m\u001b[0;34m)\u001b[0m\u001b[0;34m:\u001b[0m\u001b[0;34m\u001b[0m\u001b[0m\n",
      "\u001b[0;32m/usr/local/lib/python3.5/dist-packages/thriftpy/transport/socket.py\u001b[0m in \u001b[0;36mopen\u001b[0;34m(self)\u001b[0m\n\u001b[1;32m    102\u001b[0m             raise TTransportException(\n\u001b[1;32m    103\u001b[0m                 \u001b[0mtype\u001b[0m\u001b[0;34m=\u001b[0m\u001b[0mTTransportException\u001b[0m\u001b[0;34m.\u001b[0m\u001b[0mNOT_OPEN\u001b[0m\u001b[0;34m,\u001b[0m\u001b[0;34m\u001b[0m\u001b[0m\n\u001b[0;32m--> 104\u001b[0;31m                 message=\"Could not connect to %s\" % str(addr))\n\u001b[0m\u001b[1;32m    105\u001b[0m \u001b[0;34m\u001b[0m\u001b[0m\n\u001b[1;32m    106\u001b[0m     \u001b[0;32mdef\u001b[0m \u001b[0mread\u001b[0m\u001b[0;34m(\u001b[0m\u001b[0mself\u001b[0m\u001b[0;34m,\u001b[0m \u001b[0msz\u001b[0m\u001b[0;34m)\u001b[0m\u001b[0;34m:\u001b[0m\u001b[0;34m\u001b[0m\u001b[0m\n",
      "\u001b[0;31mTTransportException\u001b[0m: TTransportException(message=\"Could not connect to ('172.16.10.102', 21050)\", type=1)"
     ]
    }
   ],
   "source": [
    "conn = connect(host='172.16.10.102', port=21050)\n",
    "cur = conn.cursor()\n",
    "cur.execute('refresh solarlog_roh')\n",
    "cur.execute('SELECT `timestamp`,cur_yield_watt,plantname FROM solarlog_roh order by `timestamp` limit 150000')\n",
    "dfp = as_pandas(cur)\n",
    "cur.close()\n",
    "conn.close()\n",
    "dfp.head()"
   ]
  },
  {
   "cell_type": "code",
   "execution_count": null,
   "metadata": {
    "ExecuteTime": {
     "end_time": "2018-03-18T16:49:10.176377Z",
     "start_time": "2018-03-18T16:49:10.170256Z"
    },
    "extensions": {
     "jupyter_dashboards": {
      "version": 1,
      "views": {
       "grid_default": {
        "col": 8,
        "height": 4,
        "hidden": false,
        "row": 8,
        "width": 4
       },
       "report_default": {}
      }
     }
    }
   },
   "outputs": [],
   "source": [
    "len(dfp)"
   ]
  },
  {
   "cell_type": "code",
   "execution_count": null,
   "metadata": {
    "ExecuteTime": {
     "end_time": "2018-03-18T16:49:10.213983Z",
     "start_time": "2018-03-18T16:49:10.179535Z"
    },
    "extensions": {
     "jupyter_dashboards": {
      "version": 1,
      "views": {
       "grid_default": {
        "col": 0,
        "height": 13,
        "hidden": false,
        "row": 12,
        "width": 4
       },
       "report_default": {}
      }
     }
    }
   },
   "outputs": [],
   "source": [
    "dfp.info()"
   ]
  },
  {
   "cell_type": "code",
   "execution_count": null,
   "metadata": {
    "ExecuteTime": {
     "end_time": "2018-03-18T16:49:10.264134Z",
     "start_time": "2018-03-18T16:49:10.216694Z"
    },
    "extensions": {
     "jupyter_dashboards": {
      "version": 1,
      "views": {
       "grid_default": {
        "col": 8,
        "height": 9,
        "hidden": false,
        "row": 12,
        "width": 4
       },
       "report_default": {}
      }
     }
    },
    "scrolled": true
   },
   "outputs": [],
   "source": [
    "dfp.describe()"
   ]
  },
  {
   "cell_type": "markdown",
   "metadata": {
    "extensions": {
     "jupyter_dashboards": {
      "version": 1,
      "views": {
       "grid_default": {
        "col": 4,
        "height": 4,
        "hidden": false,
        "row": 15,
        "width": 4
       },
       "report_default": {}
      }
     }
    }
   },
   "source": [
    "## Daten Verstehen"
   ]
  },
  {
   "cell_type": "code",
   "execution_count": null,
   "metadata": {
    "ExecuteTime": {
     "end_time": "2018-03-18T16:49:10.474801Z",
     "start_time": "2018-03-18T16:49:10.267189Z"
    },
    "extensions": {
     "jupyter_dashboards": {
      "version": 1,
      "views": {
       "grid_default": {
        "col": 4,
        "height": 11,
        "hidden": false,
        "row": 19,
        "width": 4
       },
       "report_default": {}
      }
     }
    }
   },
   "outputs": [],
   "source": [
    "# Change epochtime from timestamp to date time\n",
    "df = pd.DataFrame() # New Data Frame\n",
    "# Convert to datetime and add 1h corret time shift by collecting data\n",
    "df['datetime'] = dfp.timestamp.apply(dt.datetime.utcfromtimestamp) + pd.Timedelta(hours=1)\n",
    "df.sort_values(['datetime'])\n",
    "df['value_watt'] = dfp.cur_yield_watt\n",
    "df['name'] = dfp.plantname\n",
    "df.head()"
   ]
  },
  {
   "cell_type": "code",
   "execution_count": null,
   "metadata": {
    "ExecuteTime": {
     "end_time": "2018-03-18T16:49:10.528968Z",
     "start_time": "2018-03-18T16:49:10.477719Z"
    },
    "extensions": {
     "jupyter_dashboards": {
      "version": 1,
      "views": {
       "grid_default": {
        "col": 8,
        "height": 45,
        "hidden": false,
        "row": 21,
        "width": 4
       },
       "report_default": {}
      }
     }
    }
   },
   "outputs": [],
   "source": [
    "df.name.value_counts()"
   ]
  },
  {
   "cell_type": "code",
   "execution_count": null,
   "metadata": {
    "ExecuteTime": {
     "end_time": "2018-03-18T16:49:10.561627Z",
     "start_time": "2018-03-18T16:49:10.531965Z"
    },
    "extensions": {
     "jupyter_dashboards": {
      "version": 1,
      "views": {
       "grid_default": {
        "col": 0,
        "height": 12,
        "hidden": false,
        "row": 25,
        "width": 4
       },
       "report_default": {}
      }
     }
    }
   },
   "outputs": [],
   "source": [
    "df.info()"
   ]
  },
  {
   "cell_type": "code",
   "execution_count": null,
   "metadata": {
    "ExecuteTime": {
     "end_time": "2018-03-18T16:49:10.769239Z",
     "start_time": "2018-03-18T16:49:10.564671Z"
    },
    "extensions": {
     "jupyter_dashboards": {
      "version": 1,
      "views": {
       "grid_default": {
        "hidden": true
       },
       "report_default": {}
      }
     }
    }
   },
   "outputs": [],
   "source": [
    "df.groupby('name').describe().value_watt\n",
    "dfp1 = df.copy()"
   ]
  },
  {
   "cell_type": "code",
   "execution_count": null,
   "metadata": {
    "ExecuteTime": {
     "end_time": "2018-03-18T16:49:10.886188Z",
     "start_time": "2018-03-18T16:49:10.772297Z"
    },
    "extensions": {
     "jupyter_dashboards": {
      "version": 1,
      "views": {
       "grid_default": {
        "hidden": true
       },
       "report_default": {}
      }
     }
    }
   },
   "outputs": [],
   "source": [
    "df1 = dfp1[dfp1['name'] == 'Pfadiheim Baar']\n",
    "df2 = dfp1[dfp1['name'] == 'Meyer Rolf, Baar']\n",
    "df3 = dfp1[dfp1['name'] == 'Winsun AG, Steg']\n",
    "df4 = dfp1[dfp1['name'] == 'Himmelrichstrasse 1ab, Baar']\n",
    "df5 = dfp1[dfp1['name'] == 'Betschart René, Steinhausen']\n",
    "df6 = dfp1[dfp1['name'] == 'Loosmann Johannes, Hausen am Albis']\n",
    "df7 = dfp1[dfp1['name'] == 'Haller Roman, Rifferswil']\n",
    "#df8 = dfp1[dfp1['name'] == 'Maechler Paul, Allenwinden']"
   ]
  },
  {
   "cell_type": "code",
   "execution_count": null,
   "metadata": {
    "ExecuteTime": {
     "end_time": "2018-03-18T16:49:12.721470Z",
     "start_time": "2018-03-18T16:49:10.889252Z"
    },
    "extensions": {
     "jupyter_dashboards": {
      "version": 1,
      "views": {
       "grid_default": {
        "col": 4,
        "height": 4,
        "hidden": false,
        "row": 30,
        "width": 4
       },
       "report_default": {}
      }
     }
    }
   },
   "outputs": [],
   "source": [
    "# Time Series Plot\n",
    "plt.figure(figsize = (15,8))\n",
    "plt.plot(dfp1.datetime,dfp1.value_watt)\n",
    "plt.ylabel(\"Leistung [W]\",size=14)\n",
    "plt.xlabel(\"Time\",size=14)\n",
    "plt.title(\"Pfadiheim, Baar\")\n",
    "plt.show()"
   ]
  },
  {
   "cell_type": "code",
   "execution_count": null,
   "metadata": {
    "ExecuteTime": {
     "end_time": "2018-03-18T16:49:18.072596Z",
     "start_time": "2018-03-18T16:49:12.725001Z"
    },
    "extensions": {
     "jupyter_dashboards": {
      "version": 1,
      "views": {
       "grid_default": {
        "col": 0,
        "height": 19,
        "hidden": false,
        "row": 66,
        "width": null
       },
       "report_default": {}
      }
     }
    },
    "scrolled": false
   },
   "outputs": [],
   "source": [
    "import plotly\n",
    "from plotly.offline import download_plotlyjs, init_notebook_mode, plot, iplot\n",
    "from plotly.graph_objs import *\n",
    "init_notebook_mode(connected=True) #need to use plotly offline\n",
    "\n",
    "data = Data([Scatter(x=df1.datetime, y=df1.value_watt, name='Pfadiheim Baar'),\n",
    "             Scatter(x=df2.datetime, y=df2.value_watt, name='Meyer Rolf, Baar'),\n",
    "             Scatter(x=df3.datetime, y=df3.value_watt, name='Winsun AG, Steg'),\n",
    "             Scatter(x=df4.datetime, y=df4.value_watt, name='Himmelrichstrasse 1ab, Baar'),\n",
    "             Scatter(x=df5.datetime, y=df5.value_watt, name='Betschart René, Steinhausen'),\n",
    "             Scatter(x=df6.datetime, y=df6.value_watt, name='Loosmann Johannes, Hausen am Albis'),\n",
    "             Scatter(x=df7.datetime, y=df7.value_watt, name='Haller Roman, Rifferswil')])\n",
    "\n",
    "layout = Layout(\n",
    "    title='Leistung aller Anlagen',\n",
    "    yaxis=dict(title='Leistung in [kW]'),\n",
    "    xaxis=dict(title='Zeit')\n",
    ")\n",
    "\n",
    "fig = Figure(data=data, layout=layout)\n",
    "\n",
    "iplot(fig, filename = 'basic-line')"
   ]
  },
  {
   "cell_type": "markdown",
   "metadata": {
    "extensions": {
     "jupyter_dashboards": {
      "version": 1,
      "views": {
       "grid_default": {
        "col": 0,
        "height": 4,
        "hidden": false,
        "row": 85,
        "width": 12
       },
       "report_default": {}
      }
     }
    }
   },
   "source": [
    "## Lade Solar Inventar Tabelle\n",
    "Die Daten der Winsun Anlage in der inverntar_solar Tabelle werden direkt über die Solarlog API in HDFS konsumiert."
   ]
  },
  {
   "cell_type": "code",
   "execution_count": null,
   "metadata": {
    "ExecuteTime": {
     "end_time": "2018-03-18T16:49:18.217872Z",
     "start_time": "2018-03-18T16:49:18.075938Z"
    },
    "extensions": {
     "jupyter_dashboards": {
      "version": 1,
      "views": {
       "grid_default": {
        "col": 0,
        "height": 4,
        "hidden": false,
        "row": 37,
        "width": 7
       },
       "report_default": {}
      }
     }
    }
   },
   "outputs": [],
   "source": [
    "conn = connect(host='172.16.10.102', port=21050)\n",
    "cur = conn.cursor()\n",
    "cur.execute('refresh inventory_solar')\n",
    "cur.execute('SELECT * FROM inventory_solar')\n",
    "dfis = as_pandas(cur)\n",
    "cur.close()\n",
    "conn.close()\n",
    "#To see all tables tip only dfp without .head()\n",
    "dfis.head(1)"
   ]
  },
  {
   "cell_type": "code",
   "execution_count": null,
   "metadata": {
    "ExecuteTime": {
     "end_time": "2018-03-18T16:49:18.254682Z",
     "start_time": "2018-03-18T16:49:18.220934Z"
    },
    "extensions": {
     "jupyter_dashboards": {
      "version": 1,
      "views": {
       "grid_default": {
        "col": 0,
        "height": 14,
        "hidden": false,
        "row": 41,
        "width": 7
       },
       "report_default": {}
      }
     }
    }
   },
   "outputs": [],
   "source": [
    "df = dfis.set_index('index')\n",
    "df['nennleistung'] = df.anlagenleistung\n",
    "df['name'] = df.plantname\n",
    "df['ort'] = df.zip\n",
    "df.drop('anlagenleistung', axis=1, inplace=True)\n",
    "df.drop('plantname', axis=1, inplace=True)\n",
    "df.drop('zip', axis=1, inplace=True)\n",
    "df"
   ]
  },
  {
   "cell_type": "markdown",
   "metadata": {
    "extensions": {
     "jupyter_dashboards": {
      "version": 1,
      "views": {
       "grid_default": {
        "col": 0,
        "height": 4,
        "hidden": false,
        "row": 55,
        "width": 4
       },
       "report_default": {}
      }
     }
    }
   },
   "source": [
    "## Vergleich der Anlagen"
   ]
  },
  {
   "cell_type": "code",
   "execution_count": null,
   "metadata": {
    "ExecuteTime": {
     "end_time": "2018-03-18T16:49:18.266981Z",
     "start_time": "2018-03-18T16:49:18.257612Z"
    },
    "extensions": {
     "jupyter_dashboards": {
      "version": 1,
      "views": {
       "grid_default": {
        "col": 4,
        "height": 4,
        "hidden": false,
        "row": 55,
        "width": 4
       },
       "report_default": {}
      }
     }
    }
   },
   "outputs": [],
   "source": [
    "df[df.name == 'Pfadiheim Baar'].nennleistung*1000"
   ]
  },
  {
   "cell_type": "code",
   "execution_count": null,
   "metadata": {
    "ExecuteTime": {
     "end_time": "2018-03-18T16:49:18.294364Z",
     "start_time": "2018-03-18T16:49:18.269817Z"
    },
    "extensions": {
     "jupyter_dashboards": {
      "version": 1,
      "views": {
       "grid_default": {
        "col": 0,
        "height": 5,
        "hidden": false,
        "row": 59,
        "width": 4
       },
       "report_default": {}
      }
     }
    }
   },
   "outputs": [],
   "source": [
    "dfp1[dfp1.name=='Pfadiheim Baar'].value_watt.head()"
   ]
  },
  {
   "cell_type": "code",
   "execution_count": null,
   "metadata": {
    "ExecuteTime": {
     "end_time": "2018-03-18T16:49:18.320269Z",
     "start_time": "2018-03-18T16:49:18.297137Z"
    },
    "extensions": {
     "jupyter_dashboards": {
      "version": 1,
      "views": {
       "grid_default": {
        "col": 4,
        "height": 4,
        "hidden": false,
        "row": 59,
        "width": 4
       },
       "report_default": {}
      }
     }
    }
   },
   "outputs": [],
   "source": [
    "len(dfp1[dfp1.name=='Pfadiheim Baar'].value_watt/(int(df[df.name == 'Pfadiheim Baar'].nennleistung)))"
   ]
  },
  {
   "cell_type": "code",
   "execution_count": null,
   "metadata": {
    "ExecuteTime": {
     "end_time": "2018-03-18T16:49:18.634985Z",
     "start_time": "2018-03-18T16:49:18.323067Z"
    },
    "extensions": {
     "jupyter_dashboards": {
      "version": 1,
      "views": {
       "grid_default": {
        "col": 0,
        "height": 11,
        "hidden": false,
        "row": 89,
        "width": 4
       },
       "report_default": {}
      }
     }
    }
   },
   "outputs": [],
   "source": [
    "# Um die Anlagen Vergelichbar zu machen wird nun der spezifische Ertrag berechnet\n",
    "dfp1['spez_leistung'] = dfp1.value_watt\n",
    "dfp1.loc[dfp1[dfp1.name=='Pfadiheim Baar'].index,\"spez_leistung\"] = dfp1[dfp1.name=='Pfadiheim Baar'].value_watt/(int(df[df.name == 'Pfadiheim Baar'].nennleistung*1000))\n",
    "dfp1.loc[dfp1[dfp1.name=='Winsun AG, Steg'].index,\"spez_leistung\"] = dfp1[dfp1.name=='Winsun AG, Steg'].value_watt/(int(df[df.name == 'Winsun AG, Steg'].nennleistung*1000))\n",
    "dfp1.loc[dfp1[dfp1.name=='Meyer Rolf, Baar'].index,\"spez_leistung\"]= dfp1[dfp1.name=='Meyer Rolf, Baar'].value_watt/(int(df[df.name == 'Meyer Rolf, Baar'].nennleistung*1000))\n",
    "dfp1.loc[dfp1[dfp1.name=='Himmelrichstrasse 1ab, Baar'].index,\"spez_leistung\"]= dfp1[dfp1.name=='Himmelrichstrasse 1ab, Baar'].value_watt/(int(df[df.name == 'Himmelrichstrasse 1ab, Baar'].nennleistung*1000))\n",
    "dfp1.loc[dfp1[dfp1.name=='Betschart René, Steinhausen'].index,\"spez_leistung\"]= dfp1[dfp1.name=='Betschart René, Steinhausen'].value_watt/(int(df[df.name == 'Betschart René, Steinhausen'].nennleistung*1000))\n",
    "dfp1.loc[dfp1[dfp1.name=='Loosmann Johannes, Hausen am Albis'].index,\"spez_leistung\"]= dfp1[dfp1.name=='Loosmann Johannes, Hausen am Albis'].value_watt/(int(df[df.name == 'Loosmann Johannes, Hausen am Albis'].nennleistung*1000))\n",
    "dfp1.loc[dfp1[dfp1.name=='Haller Roman, Rifferswil'].index,\"spez_leistung\"]= dfp1[dfp1.name=='Haller Roman, Rifferswil'].value_watt/(int(df[df.name == 'Haller Roman, Rifferswil'].nennleistung*1000))\n",
    "dfp1.head()                                                   "
   ]
  },
  {
   "cell_type": "code",
   "execution_count": null,
   "metadata": {
    "ExecuteTime": {
     "end_time": "2018-03-18T16:49:18.669479Z",
     "start_time": "2018-03-18T16:49:18.638049Z"
    },
    "extensions": {
     "jupyter_dashboards": {
      "version": 1,
      "views": {
       "grid_default": {
        "col": 4,
        "height": 11,
        "hidden": false,
        "row": 89,
        "width": 6
       },
       "report_default": {}
      }
     }
    }
   },
   "outputs": [],
   "source": [
    "dfp1[dfp1.name=='Himmelrichstrasse 1ab, Baar'].head()"
   ]
  },
  {
   "cell_type": "code",
   "execution_count": null,
   "metadata": {
    "ExecuteTime": {
     "end_time": "2018-03-18T16:49:18.733930Z",
     "start_time": "2018-03-18T16:49:18.672307Z"
    },
    "extensions": {
     "jupyter_dashboards": {
      "version": 1,
      "views": {
       "grid_default": {
        "col": 0,
        "height": 9,
        "hidden": false,
        "row": 100,
        "width": 4
       },
       "report_default": {}
      }
     }
    }
   },
   "outputs": [],
   "source": [
    "dfp1.fillna(0)\n",
    "dfp1.describe()"
   ]
  },
  {
   "cell_type": "code",
   "execution_count": null,
   "metadata": {
    "ExecuteTime": {
     "end_time": "2018-03-18T16:49:24.654415Z",
     "start_time": "2018-03-18T16:49:18.736790Z"
    },
    "extensions": {
     "jupyter_dashboards": {
      "version": 1,
      "views": {
       "grid_default": {
        "col": 10,
        "height": 19,
        "hidden": false,
        "row": 89,
        "width": null
       },
       "report_default": {}
      }
     }
    },
    "scrolled": false
   },
   "outputs": [],
   "source": [
    "data2 = Data([Scatter(x=dfp1[dfp1.name == 'Pfadiheim Baar'].datetime, y=dfp1[dfp1.name == 'Pfadiheim Baar'].spez_leistung, name='Pfadiheim, Baar'),\n",
    "             Scatter(x=dfp1[dfp1.name == 'Meyer Rolf, Baar'].datetime, y=dfp1[dfp1.name == 'Meyer Rolf, Baar'].spez_leistung, name='Meyer, Baar'),\n",
    "             Scatter(x=dfp1[dfp1.name == 'Betschart René, Steinhausen'].datetime, y=dfp1[dfp1.name == 'Betschart René, Steinhausen'].spez_leistung, name='Betschart, Steinhausen'),\n",
    "             Scatter(x=dfp1[dfp1.name == 'Himmelrichstrasse 1ab, Baar'].datetime, y=dfp1[dfp1.name == 'Himmelrichstrasse 1ab, Baar'].spez_leistung, name='Himmelrichstrasse, Baar'),\n",
    "             Scatter(x=dfp1[dfp1.name == 'Loosmann Johannes, Hausen am Albis'].datetime, y=dfp1[dfp1.name == 'Loosmann Johannes, Hausen am Albis'].spez_leistung, name='Loosmann, Hausen am Albis'),\n",
    "             Scatter(x=dfp1[dfp1.name == 'Haller Roman, Rifferswil'].datetime, y=dfp1[dfp1.name == 'Haller Roman, Rifferswil'].spez_leistung, name='Haller Rifferswil'),\n",
    "             Scatter(x=dfp1[dfp1.name == 'Winsun AG, Steg'].datetime, y=dfp1[dfp1.name == 'Winsun AG, Steg'].spez_leistung, name='Winsun AG, Steg')])\n",
    "\n",
    "layout2 = Layout(\n",
    "    title='Spezifische Leistung aller Anlagen',\n",
    "    yaxis=dict(title='Spezifische Leistung [kW/kWp]'),\n",
    "    xaxis=dict(title='Zeit')\n",
    ")\n",
    "\n",
    "fig2 = Figure(data=data2, layout=layout2)\n",
    "\n",
    "iplot(fig2, filename = 'basic-line')"
   ]
  },
  {
   "cell_type": "code",
   "execution_count": null,
   "metadata": {
    "ExecuteTime": {
     "end_time": "2018-03-18T16:49:27.289556Z",
     "start_time": "2018-03-18T16:49:24.657653Z"
    },
    "extensions": {
     "jupyter_dashboards": {
      "version": 1,
      "views": {
       "grid_default": {
        "col": 4,
        "height": 19,
        "hidden": false,
        "row": 108,
        "width": null
       },
       "report_default": {}
      }
     }
    }
   },
   "outputs": [],
   "source": [
    "#Zeit Beschränkung\n",
    "today = dt.date.today()\n",
    "week_ago = today - dt.timedelta(days=30)\n",
    "dfpt = dfp1[dfp1.datetime > week_ago]\n",
    "#Prepare Plot\n",
    "data2 = Data([Scatter(x=dfpt[dfpt.name == 'Pfadiheim Baar'].datetime, y=dfpt[dfpt.name == 'Pfadiheim Baar'].spez_leistung, name='Pfadiheim, Baar'),\n",
    "             Scatter(x=dfpt[dfpt.name == 'Meyer Rolf, Baar'].datetime, y=dfpt[dfpt.name == 'Meyer Rolf, Baar'].spez_leistung, name='Meyer, Baar'),\n",
    "             Scatter(x=dfpt[dfpt.name == 'Betschart René, Steinhausen'].datetime, y=dfpt[dfpt.name == 'Betschart René, Steinhausen'].spez_leistung, name='Betschart, Steinhausen'),\n",
    "             Scatter(x=dfpt[dfpt.name == 'Himmelrichstrasse 1ab, Baar'].datetime, y=dfpt[dfpt.name == 'Himmelrichstrasse 1ab, Baar'].spez_leistung, name='Himmelrichstrasse, Baar'),\n",
    "             Scatter(x=dfpt[dfpt.name == 'Loosmann Johannes, Hausen am Albis'].datetime, y=dfpt[dfpt.name == 'Loosmann Johannes, Hausen am Albis'].spez_leistung, name='Loosmann, Hausen am Albis'),\n",
    "             Scatter(x=dfpt[dfpt.name == 'Haller Roman, Rifferswil'].datetime, y=dfpt[dfpt.name == 'Haller Roman, Rifferswil'].spez_leistung, name='Haller Rifferswil'),\n",
    "             Scatter(x=dfpt[dfpt.name == 'Winsun AG, Steg'].datetime, y=dfpt[dfpt.name == 'Winsun AG, Steg'].spez_leistung, name='Winsun AG, Steg')])\n",
    "\n",
    "layout2 = Layout(\n",
    "    title='Spezifische Leistung aller Anlagen',\n",
    "    yaxis=dict(title='Spezifische Leistung [kW/kWp]'),\n",
    "    xaxis=dict(title='Zeit')\n",
    ")\n",
    "\n",
    "fig2 = Figure(data=data2, layout=layout2)\n",
    "\n",
    "iplot(fig2, filename = 'basic-line')"
   ]
  },
  {
   "cell_type": "code",
   "execution_count": null,
   "metadata": {
    "ExecuteTime": {
     "end_time": "2018-03-18T16:49:27.301340Z",
     "start_time": "2018-03-18T16:49:27.292772Z"
    },
    "extensions": {
     "jupyter_dashboards": {
      "version": 1,
      "views": {
       "grid_default": {
        "col": 4,
        "height": 8,
        "hidden": false,
        "row": 100,
        "width": 4
       },
       "report_default": {}
      }
     }
    }
   },
   "outputs": [],
   "source": [
    "dfsp = pd.DataFrame(index=dfp1.datetime)\n",
    "#df3 = pd.DataFrame(df2['teams'].values.tolist(), columns=['team1','team2'])\n",
    "dfsp = pd.DataFrame(dfsp['name'].,colums=['']\n",
    "\n",
    "dfsp['Pfadiheim Baar'] = dfp1[dfp1.name == 'Pfadiheim Baar'].spez_leistung.value\n",
    "dfsp['Meyer Rolf, Baar'] = dfp1[dfp1.name == 'Meyer Rolf, Baar'].spez_leistung\n",
    "dfsp.head()"
   ]
  },
  {
   "cell_type": "code",
   "execution_count": null,
   "metadata": {
    "ExecuteTime": {
     "end_time": "2018-03-18T16:49:27.302810Z",
     "start_time": "2018-03-18T16:47:38.620Z"
    },
    "extensions": {
     "jupyter_dashboards": {
      "version": 1,
      "views": {
       "grid_default": {
        "hidden": true
       },
       "report_default": {}
      }
     }
    }
   },
   "outputs": [],
   "source": [
    "dfsp.corr()"
   ]
  },
  {
   "cell_type": "code",
   "execution_count": null,
   "metadata": {
    "extensions": {
     "jupyter_dashboards": {
      "version": 1,
      "views": {
       "grid_default": {
        "hidden": true
       },
       "report_default": {}
      }
     }
    }
   },
   "outputs": [],
   "source": []
  }
 ],
 "metadata": {
  "extensions": {
   "jupyter_dashboards": {
    "activeView": "grid_default",
    "version": 1,
    "views": {
     "grid_default": {
      "cellMargin": 10,
      "defaultCellHeight": 20,
      "maxColumns": 12,
      "name": "grid",
      "type": "grid"
     },
     "report_default": {
      "name": "report",
      "type": "report"
     }
    }
   }
  },
  "kernelspec": {
   "display_name": "Python 3",
   "language": "python",
   "name": "python3"
  },
  "language_info": {
   "codemirror_mode": {
    "name": "ipython",
    "version": 3
   },
   "file_extension": ".py",
   "mimetype": "text/x-python",
   "name": "python",
   "nbconvert_exporter": "python",
   "pygments_lexer": "ipython3",
   "version": "3.5.2"
  }
 },
 "nbformat": 4,
 "nbformat_minor": 2
}
