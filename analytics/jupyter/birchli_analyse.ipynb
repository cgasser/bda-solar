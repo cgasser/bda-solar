{
 "cells": [
  {
   "cell_type": "markdown",
   "metadata": {},
   "source": [
    "# Birchli PV Produktions Leistungs Analyse"
   ]
  },
  {
   "cell_type": "markdown",
   "metadata": {},
   "source": [
    "## Import"
   ]
  },
  {
   "cell_type": "markdown",
   "metadata": {},
   "source": [
    "More information about impyla see here: https://github.com/cloudera/impyla."
   ]
  },
  {
   "cell_type": "code",
   "execution_count": 1,
   "metadata": {},
   "outputs": [],
   "source": [
    "from impala.dbapi import connect \n",
    "from impala.util import as_pandas\n",
    "import pandas as pd # For Data Handling\n",
    "import numpy as np  # data processing, CSV file I/O (e.g. pd.read_csv)\n",
    "import math as mt\n",
    "import datetime as dt # To convert timestamp data\n",
    "import matplotlib   #for plots\n",
    "import matplotlib.pyplot as plt\n",
    "import seaborn as sns\n",
    "\n",
    "sns.set(color_codes=True)\n",
    "matplotlib.style.use('ggplot')\n",
    "%matplotlib inline"
   ]
  },
  {
   "cell_type": "markdown",
   "metadata": {},
   "source": [
    "## Connect to DataHost wh-02 (172.16.10.102)"
   ]
  },
  {
   "cell_type": "markdown",
   "metadata": {},
   "source": [
    "Connect to Impala and execute show tables to see all avilable tables."
   ]
  },
  {
   "cell_type": "code",
   "execution_count": 2,
   "metadata": {},
   "outputs": [
    {
     "data": {
      "text/html": [
       "<div>\n",
       "<style scoped>\n",
       "    .dataframe tbody tr th:only-of-type {\n",
       "        vertical-align: middle;\n",
       "    }\n",
       "\n",
       "    .dataframe tbody tr th {\n",
       "        vertical-align: top;\n",
       "    }\n",
       "\n",
       "    .dataframe thead th {\n",
       "        text-align: right;\n",
       "    }\n",
       "</style>\n",
       "<table border=\"1\" class=\"dataframe\">\n",
       "  <thead>\n",
       "    <tr style=\"text-align: right;\">\n",
       "      <th></th>\n",
       "      <th>name</th>\n",
       "    </tr>\n",
       "  </thead>\n",
       "  <tbody>\n",
       "    <tr>\n",
       "      <th>0</th>\n",
       "      <td>birchli_roh</td>\n",
       "    </tr>\n",
       "    <tr>\n",
       "      <th>1</th>\n",
       "      <td>inventory_solar</td>\n",
       "    </tr>\n",
       "    <tr>\n",
       "      <th>2</th>\n",
       "      <td>meteo_einsiedeln</td>\n",
       "    </tr>\n",
       "    <tr>\n",
       "      <th>3</th>\n",
       "      <td>open_weather_6340_1513956438</td>\n",
       "    </tr>\n",
       "    <tr>\n",
       "      <th>4</th>\n",
       "      <td>solarlog</td>\n",
       "    </tr>\n",
       "  </tbody>\n",
       "</table>\n",
       "</div>"
      ],
      "text/plain": [
       "                           name\n",
       "0                   birchli_roh\n",
       "1               inventory_solar\n",
       "2              meteo_einsiedeln\n",
       "3  open_weather_6340_1513956438\n",
       "4                      solarlog"
      ]
     },
     "execution_count": 2,
     "metadata": {},
     "output_type": "execute_result"
    }
   ],
   "source": [
    "# jdbc:impala://zhhaphmp-hala01.it.bwns.ch:21050;AuthMech=0;\n",
    "conn = connect(host='172.16.10.102', port=21050)\n",
    "cur = conn.cursor()\n",
    "cur.execute('SHOW TABLES')\n",
    "dfp = as_pandas(cur)\n",
    "cur.close()\n",
    "#To see all tables tip only dfp without .head()\n",
    "dfp.head()"
   ]
  },
  {
   "cell_type": "markdown",
   "metadata": {},
   "source": [
    "Connect to DataNode and show 5 entries from the solarlog_roh table."
   ]
  },
  {
   "cell_type": "code",
   "execution_count": 3,
   "metadata": {},
   "outputs": [
    {
     "data": {
      "text/html": [
       "<div>\n",
       "<style scoped>\n",
       "    .dataframe tbody tr th:only-of-type {\n",
       "        vertical-align: middle;\n",
       "    }\n",
       "\n",
       "    .dataframe tbody tr th {\n",
       "        vertical-align: top;\n",
       "    }\n",
       "\n",
       "    .dataframe thead th {\n",
       "        text-align: right;\n",
       "    }\n",
       "</style>\n",
       "<table border=\"1\" class=\"dataframe\">\n",
       "  <thead>\n",
       "    <tr style=\"text-align: right;\">\n",
       "      <th></th>\n",
       "      <th>id</th>\n",
       "      <th>timestamp</th>\n",
       "      <th>yield_1</th>\n",
       "      <th>yield_2</th>\n",
       "      <th>yield_tot</th>\n",
       "    </tr>\n",
       "  </thead>\n",
       "  <tbody>\n",
       "    <tr>\n",
       "      <th>0</th>\n",
       "      <td>0</td>\n",
       "      <td>2010-11-30 00:00:00</td>\n",
       "      <td>0.0</td>\n",
       "      <td>NaN</td>\n",
       "      <td>0.0</td>\n",
       "    </tr>\n",
       "    <tr>\n",
       "      <th>1</th>\n",
       "      <td>1</td>\n",
       "      <td>2010-11-30 00:10:00</td>\n",
       "      <td>0.0</td>\n",
       "      <td>NaN</td>\n",
       "      <td>0.0</td>\n",
       "    </tr>\n",
       "    <tr>\n",
       "      <th>2</th>\n",
       "      <td>2</td>\n",
       "      <td>2010-11-30 00:20:00</td>\n",
       "      <td>0.0</td>\n",
       "      <td>NaN</td>\n",
       "      <td>0.0</td>\n",
       "    </tr>\n",
       "    <tr>\n",
       "      <th>3</th>\n",
       "      <td>3</td>\n",
       "      <td>2010-11-30 00:30:00</td>\n",
       "      <td>0.0</td>\n",
       "      <td>NaN</td>\n",
       "      <td>0.0</td>\n",
       "    </tr>\n",
       "    <tr>\n",
       "      <th>4</th>\n",
       "      <td>4</td>\n",
       "      <td>2010-11-30 00:40:00</td>\n",
       "      <td>0.0</td>\n",
       "      <td>NaN</td>\n",
       "      <td>0.0</td>\n",
       "    </tr>\n",
       "  </tbody>\n",
       "</table>\n",
       "</div>"
      ],
      "text/plain": [
       "   id           timestamp  yield_1  yield_2  yield_tot\n",
       "0   0 2010-11-30 00:00:00      0.0      NaN        0.0\n",
       "1   1 2010-11-30 00:10:00      0.0      NaN        0.0\n",
       "2   2 2010-11-30 00:20:00      0.0      NaN        0.0\n",
       "3   3 2010-11-30 00:30:00      0.0      NaN        0.0\n",
       "4   4 2010-11-30 00:40:00      0.0      NaN        0.0"
      ]
     },
     "execution_count": 3,
     "metadata": {},
     "output_type": "execute_result"
    }
   ],
   "source": [
    "#Test other aproach to select\n",
    "# jdbc:impala://zhhaphmp-hala01.it.bwns.ch:21050;AuthMech=0;\n",
    "conn = connect(host='172.16.10.102', port=21050)\n",
    "cur = conn.cursor()\n",
    "cur.execute('SELECT * FROM birchli_roh order by `timestamp`')\n",
    "df = as_pandas(cur)\n",
    "cur.close()\n",
    "conn.close()\n",
    "#To see all tables tip only dfp without .head()\n",
    "df.head()"
   ]
  },
  {
   "cell_type": "code",
   "execution_count": 4,
   "metadata": {},
   "outputs": [
    {
     "data": {
      "text/plain": [
       "342720"
      ]
     },
     "execution_count": 4,
     "metadata": {},
     "output_type": "execute_result"
    }
   ],
   "source": [
    "len(df)"
   ]
  },
  {
   "cell_type": "code",
   "execution_count": 5,
   "metadata": {},
   "outputs": [
    {
     "data": {
      "text/plain": [
       "count    342720.000000\n",
       "mean          0.700203\n",
       "std          82.911864\n",
       "min           0.000000\n",
       "25%           0.000000\n",
       "50%           0.000000\n",
       "75%           0.492000\n",
       "max       38981.946000\n",
       "Name: yield_tot, dtype: float64"
      ]
     },
     "execution_count": 5,
     "metadata": {},
     "output_type": "execute_result"
    }
   ],
   "source": [
    "df.describe().yield_tot"
   ]
  },
  {
   "cell_type": "markdown",
   "metadata": {},
   "source": [
    "Are there outliners? More than 8 kWh yield energy is not possible!"
   ]
  },
  {
   "cell_type": "code",
   "execution_count": 6,
   "metadata": {},
   "outputs": [
    {
     "data": {
      "text/html": [
       "<div>\n",
       "<style scoped>\n",
       "    .dataframe tbody tr th:only-of-type {\n",
       "        vertical-align: middle;\n",
       "    }\n",
       "\n",
       "    .dataframe tbody tr th {\n",
       "        vertical-align: top;\n",
       "    }\n",
       "\n",
       "    .dataframe thead th {\n",
       "        text-align: right;\n",
       "    }\n",
       "</style>\n",
       "<table border=\"1\" class=\"dataframe\">\n",
       "  <thead>\n",
       "    <tr style=\"text-align: right;\">\n",
       "      <th></th>\n",
       "      <th>id</th>\n",
       "      <th>timestamp</th>\n",
       "      <th>yield_1</th>\n",
       "      <th>yield_2</th>\n",
       "      <th>yield_tot</th>\n",
       "    </tr>\n",
       "  </thead>\n",
       "  <tbody>\n",
       "    <tr>\n",
       "      <th>160193</th>\n",
       "      <td>160193</td>\n",
       "      <td>2013-12-16 10:50:00</td>\n",
       "      <td>0.0</td>\n",
       "      <td>28916.460</td>\n",
       "      <td>28916.460</td>\n",
       "    </tr>\n",
       "    <tr>\n",
       "      <th>224014</th>\n",
       "      <td>224014</td>\n",
       "      <td>2015-03-04 15:40:00</td>\n",
       "      <td>0.0</td>\n",
       "      <td>38981.946</td>\n",
       "      <td>38981.946</td>\n",
       "    </tr>\n",
       "    <tr>\n",
       "      <th>296404</th>\n",
       "      <td>296404</td>\n",
       "      <td>2016-12-09 08:40:00</td>\n",
       "      <td>0.0</td>\n",
       "      <td>8.754</td>\n",
       "      <td>8.754</td>\n",
       "    </tr>\n",
       "  </tbody>\n",
       "</table>\n",
       "</div>"
      ],
      "text/plain": [
       "            id           timestamp  yield_1    yield_2  yield_tot\n",
       "160193  160193 2013-12-16 10:50:00      0.0  28916.460  28916.460\n",
       "224014  224014 2015-03-04 15:40:00      0.0  38981.946  38981.946\n",
       "296404  296404 2016-12-09 08:40:00      0.0      8.754      8.754"
      ]
     },
     "execution_count": 6,
     "metadata": {},
     "output_type": "execute_result"
    }
   ],
   "source": [
    "df[df.yield_tot>8]"
   ]
  },
  {
   "cell_type": "code",
   "execution_count": 7,
   "metadata": {},
   "outputs": [],
   "source": [
    "dfc = df.drop(df[df.yield_tot>8].index)"
   ]
  },
  {
   "cell_type": "code",
   "execution_count": 8,
   "metadata": {},
   "outputs": [
    {
     "data": {
      "text/plain": [
       "count    342717.000000\n",
       "mean          0.502066\n",
       "std           0.947222\n",
       "min           0.000000\n",
       "25%           0.000000\n",
       "50%           0.000000\n",
       "75%           0.492000\n",
       "max           4.890000\n",
       "Name: yield_tot, dtype: float64"
      ]
     },
     "execution_count": 8,
     "metadata": {},
     "output_type": "execute_result"
    }
   ],
   "source": [
    "dfc.describe().yield_tot"
   ]
  },
  {
   "cell_type": "code",
   "execution_count": 9,
   "metadata": {},
   "outputs": [
    {
     "data": {
      "image/png": "[encoded data removed]",
      "text/plain": [
       "<matplotlib.figure.Figure at 0xb4f9b0cc>"
      ]
     },
     "metadata": {},
     "output_type": "display_data"
    }
   ],
   "source": [
    "# Time Series Plot\n",
    "plt.figure(figsize = (15,8))\n",
    "plt.plot(dfc.timestamp,dfc.yield_tot)\n",
    "plt.ylabel(\"yeld [kW]\",size=14)\n",
    "plt.xlabel(\"Time\",size=14)\n",
    "plt.show()"
   ]
  },
  {
   "cell_type": "markdown",
   "metadata": {},
   "source": [
    "## Table Aggregation\n",
    "Dayliy, Monthly and Yearly Aggregation <br>\n",
    "Some ideas see here https://www.shanelynn.ie/summarising-aggregatio"
   ]
  },
  {
   "cell_type": "code",
   "execution_count": 10,
   "metadata": {},
   "outputs": [
    {
     "data": {
      "text/html": [
       "<div>\n",
       "<style scoped>\n",
       "    .dataframe tbody tr th:only-of-type {\n",
       "        vertical-align: middle;\n",
       "    }\n",
       "\n",
       "    .dataframe tbody tr th {\n",
       "        vertical-align: top;\n",
       "    }\n",
       "\n",
       "    .dataframe thead th {\n",
       "        text-align: right;\n",
       "    }\n",
       "</style>\n",
       "<table border=\"1\" class=\"dataframe\">\n",
       "  <thead>\n",
       "    <tr style=\"text-align: right;\">\n",
       "      <th></th>\n",
       "      <th>id</th>\n",
       "      <th>timestamp</th>\n",
       "      <th>yield_1</th>\n",
       "      <th>yield_2</th>\n",
       "      <th>yield_tot</th>\n",
       "      <th>day</th>\n",
       "      <th>month</th>\n",
       "      <th>year</th>\n",
       "    </tr>\n",
       "  </thead>\n",
       "  <tbody>\n",
       "    <tr>\n",
       "      <th>0</th>\n",
       "      <td>0</td>\n",
       "      <td>2010-11-30 00:00:00</td>\n",
       "      <td>0.0</td>\n",
       "      <td>NaN</td>\n",
       "      <td>0.0</td>\n",
       "      <td>2010-11-30</td>\n",
       "      <td>2010-11</td>\n",
       "      <td>2010</td>\n",
       "    </tr>\n",
       "    <tr>\n",
       "      <th>1</th>\n",
       "      <td>1</td>\n",
       "      <td>2010-11-30 00:10:00</td>\n",
       "      <td>0.0</td>\n",
       "      <td>NaN</td>\n",
       "      <td>0.0</td>\n",
       "      <td>2010-11-30</td>\n",
       "      <td>2010-11</td>\n",
       "      <td>2010</td>\n",
       "    </tr>\n",
       "    <tr>\n",
       "      <th>2</th>\n",
       "      <td>2</td>\n",
       "      <td>2010-11-30 00:20:00</td>\n",
       "      <td>0.0</td>\n",
       "      <td>NaN</td>\n",
       "      <td>0.0</td>\n",
       "      <td>2010-11-30</td>\n",
       "      <td>2010-11</td>\n",
       "      <td>2010</td>\n",
       "    </tr>\n",
       "    <tr>\n",
       "      <th>3</th>\n",
       "      <td>3</td>\n",
       "      <td>2010-11-30 00:30:00</td>\n",
       "      <td>0.0</td>\n",
       "      <td>NaN</td>\n",
       "      <td>0.0</td>\n",
       "      <td>2010-11-30</td>\n",
       "      <td>2010-11</td>\n",
       "      <td>2010</td>\n",
       "    </tr>\n",
       "    <tr>\n",
       "      <th>4</th>\n",
       "      <td>4</td>\n",
       "      <td>2010-11-30 00:40:00</td>\n",
       "      <td>0.0</td>\n",
       "      <td>NaN</td>\n",
       "      <td>0.0</td>\n",
       "      <td>2010-11-30</td>\n",
       "      <td>2010-11</td>\n",
       "      <td>2010</td>\n",
       "    </tr>\n",
       "  </tbody>\n",
       "</table>\n",
       "</div>"
      ],
      "text/plain": [
       "   id           timestamp  yield_1  yield_2  yield_tot         day    month  \\\n",
       "0   0 2010-11-30 00:00:00      0.0      NaN        0.0  2010-11-30  2010-11   \n",
       "1   1 2010-11-30 00:10:00      0.0      NaN        0.0  2010-11-30  2010-11   \n",
       "2   2 2010-11-30 00:20:00      0.0      NaN        0.0  2010-11-30  2010-11   \n",
       "3   3 2010-11-30 00:30:00      0.0      NaN        0.0  2010-11-30  2010-11   \n",
       "4   4 2010-11-30 00:40:00      0.0      NaN        0.0  2010-11-30  2010-11   \n",
       "\n",
       "   year  \n",
       "0  2010  \n",
       "1  2010  \n",
       "2  2010  \n",
       "3  2010  \n",
       "4  2010  "
      ]
     },
     "execution_count": 10,
     "metadata": {},
     "output_type": "execute_result"
    }
   ],
   "source": [
    "#Dayli Agregation\n",
    "dfc['day'] = dfc['timestamp'].dt.strftime('%Y-%m-%d')\n",
    "dfc['month'] = dfc['timestamp'].dt.strftime('%Y-%m')\n",
    "dfc['year'] = dfc['timestamp'].dt.strftime('%Y')\n",
    "dfc.head()"
   ]
  },
  {
   "cell_type": "markdown",
   "metadata": {},
   "source": [
    "### Dayli Aggregation (sum,max,min,mean,median)"
   ]
  },
  {
   "cell_type": "code",
   "execution_count": 96,
   "metadata": {
    "scrolled": true
   },
   "outputs": [
    {
     "data": {
      "text/html": [
       "<div>\n",
       "<style scoped>\n",
       "    .dataframe tbody tr th:only-of-type {\n",
       "        vertical-align: middle;\n",
       "    }\n",
       "\n",
       "    .dataframe tbody tr th {\n",
       "        vertical-align: top;\n",
       "    }\n",
       "\n",
       "    .dataframe thead th {\n",
       "        text-align: right;\n",
       "    }\n",
       "</style>\n",
       "<table border=\"1\" class=\"dataframe\">\n",
       "  <thead>\n",
       "    <tr style=\"text-align: right;\">\n",
       "      <th></th>\n",
       "      <th>yield_tot</th>\n",
       "      <th>yield_max</th>\n",
       "      <th>yield_median</th>\n",
       "      <th>yield_mean</th>\n",
       "      <th>month</th>\n",
       "    </tr>\n",
       "    <tr>\n",
       "      <th>day</th>\n",
       "      <th></th>\n",
       "      <th></th>\n",
       "      <th></th>\n",
       "      <th></th>\n",
       "      <th></th>\n",
       "    </tr>\n",
       "  </thead>\n",
       "  <tbody>\n",
       "    <tr>\n",
       "      <th>2010-11-30</th>\n",
       "      <td>0.0</td>\n",
       "      <td>0.0</td>\n",
       "      <td>0.0</td>\n",
       "      <td>0.0</td>\n",
       "      <td>NaN</td>\n",
       "    </tr>\n",
       "    <tr>\n",
       "      <th>2010-12-01</th>\n",
       "      <td>0.0</td>\n",
       "      <td>0.0</td>\n",
       "      <td>0.0</td>\n",
       "      <td>0.0</td>\n",
       "      <td>NaN</td>\n",
       "    </tr>\n",
       "    <tr>\n",
       "      <th>2010-12-02</th>\n",
       "      <td>0.0</td>\n",
       "      <td>0.0</td>\n",
       "      <td>0.0</td>\n",
       "      <td>0.0</td>\n",
       "      <td>NaN</td>\n",
       "    </tr>\n",
       "    <tr>\n",
       "      <th>2010-12-03</th>\n",
       "      <td>0.0</td>\n",
       "      <td>0.0</td>\n",
       "      <td>0.0</td>\n",
       "      <td>0.0</td>\n",
       "      <td>NaN</td>\n",
       "    </tr>\n",
       "    <tr>\n",
       "      <th>2010-12-04</th>\n",
       "      <td>0.0</td>\n",
       "      <td>0.0</td>\n",
       "      <td>0.0</td>\n",
       "      <td>0.0</td>\n",
       "      <td>NaN</td>\n",
       "    </tr>\n",
       "  </tbody>\n",
       "</table>\n",
       "</div>"
      ],
      "text/plain": [
       "            yield_tot  yield_max  yield_median  yield_mean  month\n",
       "day                                                              \n",
       "2010-11-30        0.0        0.0           0.0         0.0    NaN\n",
       "2010-12-01        0.0        0.0           0.0         0.0    NaN\n",
       "2010-12-02        0.0        0.0           0.0         0.0    NaN\n",
       "2010-12-03        0.0        0.0           0.0         0.0    NaN\n",
       "2010-12-04        0.0        0.0           0.0         0.0    NaN"
      ]
     },
     "execution_count": 96,
     "metadata": {},
     "output_type": "execute_result"
    }
   ],
   "source": [
    "# Build Dayli Aggregation with sum, max, min, mean\n",
    "df_day = pd.DataFrame(dfc.groupby('day')['yield_tot'].sum()/6)\n",
    "df_day['yield_max'] = dfc.groupby('day')['yield_tot'].max()\n",
    "df_day['yield_median'] = dfc.groupby('day')['yield_tot'].median()\n",
    "df_day['yield_mean'] = dfc.groupby('day')['yield_tot'].mean()\n",
    "df_day['month'] = dfc['timestamp'].dt.month\n",
    "#df_month['year'] = dfc['timestamp'].dt.year\n",
    "df_day.head()"
   ]
  },
  {
   "cell_type": "code",
   "execution_count": 97,
   "metadata": {},
   "outputs": [],
   "source": [
    "# Careful this plot takes a while to render\n",
    "\n",
    "\n",
    "#mport plotly\n",
    "#from plotly.offline import download_plotlyjs, init_notebook_mode, plot, iplot\n",
    "#from plotly.graph_objs import *\n",
    "#init_notebook_mode(connected=True) #need to use plotly offline\n",
    "\n",
    "#data = Data([Bar(x=df_day.index, y=df_day.yield_tot, name='SUM [kWh]'),\n",
    "#             Bar(x=df_day.index, y=df_day.yield_max, name='MAX [kW]'),\n",
    "#             Bar(x=df_day.index, y=df_day.yield_median, name='MEDIAN [kW]'),\n",
    "#             Bar(x=df_day.index, y=df_day.yield_mean, name='MEAN [kW]')])\n",
    "             \n",
    "\n",
    "#iplot(Figure(data=data, layout= Layout(title='Daily Aggregation Birchli Yield [kW]')))\n"
   ]
  },
  {
   "cell_type": "markdown",
   "metadata": {},
   "source": [
    "### Monthly Aggregation (sum,max,min,mean,median)"
   ]
  },
  {
   "cell_type": "code",
   "execution_count": 98,
   "metadata": {},
   "outputs": [
    {
     "data": {
      "text/html": [
       "<div>\n",
       "<style scoped>\n",
       "    .dataframe tbody tr th:only-of-type {\n",
       "        vertical-align: middle;\n",
       "    }\n",
       "\n",
       "    .dataframe tbody tr th {\n",
       "        vertical-align: top;\n",
       "    }\n",
       "\n",
       "    .dataframe thead th {\n",
       "        text-align: right;\n",
       "    }\n",
       "</style>\n",
       "<table border=\"1\" class=\"dataframe\">\n",
       "  <thead>\n",
       "    <tr style=\"text-align: right;\">\n",
       "      <th></th>\n",
       "      <th>yield_tot</th>\n",
       "      <th>yield_max</th>\n",
       "      <th>yield_median</th>\n",
       "      <th>yield_mean</th>\n",
       "      <th>year</th>\n",
       "    </tr>\n",
       "    <tr>\n",
       "      <th>month</th>\n",
       "      <th></th>\n",
       "      <th></th>\n",
       "      <th></th>\n",
       "      <th></th>\n",
       "      <th></th>\n",
       "    </tr>\n",
       "  </thead>\n",
       "  <tbody>\n",
       "    <tr>\n",
       "      <th>2010-11</th>\n",
       "      <td>0.000</td>\n",
       "      <td>0.000</td>\n",
       "      <td>NaN</td>\n",
       "      <td>NaN</td>\n",
       "      <td>NaN</td>\n",
       "    </tr>\n",
       "    <tr>\n",
       "      <th>2010-12</th>\n",
       "      <td>4.674</td>\n",
       "      <td>2.658</td>\n",
       "      <td>NaN</td>\n",
       "      <td>NaN</td>\n",
       "      <td>NaN</td>\n",
       "    </tr>\n",
       "    <tr>\n",
       "      <th>2011-01</th>\n",
       "      <td>51.526</td>\n",
       "      <td>2.610</td>\n",
       "      <td>NaN</td>\n",
       "      <td>NaN</td>\n",
       "      <td>NaN</td>\n",
       "    </tr>\n",
       "    <tr>\n",
       "      <th>2011-02</th>\n",
       "      <td>193.006</td>\n",
       "      <td>3.108</td>\n",
       "      <td>NaN</td>\n",
       "      <td>NaN</td>\n",
       "      <td>NaN</td>\n",
       "    </tr>\n",
       "    <tr>\n",
       "      <th>2011-03</th>\n",
       "      <td>389.145</td>\n",
       "      <td>3.966</td>\n",
       "      <td>NaN</td>\n",
       "      <td>NaN</td>\n",
       "      <td>NaN</td>\n",
       "    </tr>\n",
       "  </tbody>\n",
       "</table>\n",
       "</div>"
      ],
      "text/plain": [
       "         yield_tot  yield_max  yield_median  yield_mean  year\n",
       "month                                                        \n",
       "2010-11      0.000      0.000           NaN         NaN   NaN\n",
       "2010-12      4.674      2.658           NaN         NaN   NaN\n",
       "2011-01     51.526      2.610           NaN         NaN   NaN\n",
       "2011-02    193.006      3.108           NaN         NaN   NaN\n",
       "2011-03    389.145      3.966           NaN         NaN   NaN"
      ]
     },
     "execution_count": 98,
     "metadata": {},
     "output_type": "execute_result"
    }
   ],
   "source": [
    "# Build Dayli Aggregation with sum, max, min, mean\n",
    "df_month = pd.DataFrame(dfc.groupby('month')['yield_tot'].sum()/6) # 10 Min Wert Basis\n",
    "df_month['yield_max'] = dfc.groupby('month')['yield_tot'].max()\n",
    "df_month['yield_median'] = df_day.groupby('month')['yield_median'].median()\n",
    "df_month['yield_mean'] = df_day.groupby('month')['yield_mean'].mean()\n",
    "df_month['year'] = dfc['timestamp'].dt.year\n",
    "df_month.head()"
   ]
  },
  {
   "cell_type": "code",
   "execution_count": 99,
   "metadata": {},
   "outputs": [
    {
     "data": {
      "text/html": [
       "<script>requirejs.config({paths: { 'plotly': ['https://cdn.plot.ly/plotly-latest.min']},});if(!window.Plotly) {{require(['plotly'],function(plotly) {window.Plotly=plotly;});}}</script>"
      ],
      "text/vnd.plotly.v1+html": [
       "<script>requirejs.config({paths: { 'plotly': ['https://cdn.plot.ly/plotly-latest.min']},});if(!window.Plotly) {{require(['plotly'],function(plotly) {window.Plotly=plotly;});}}</script>"
      ]
     },
     "metadata": {},
     "output_type": "display_data"
    },
    {
     "data": {
      "application/vnd.plotly.v1+json": {
       "data": [
        {
         "name": "SUM [kW]",
         "type": "bar",
         "x": [
          "2010-11",
          "2010-12",
          "2011-01",
          "2011-02",
          "2011-03",
          "2011-04",
          "2011-05",
          "2011-06",
          "2011-07",
          "2011-08",
          "2011-09",
          "2011-10",
          "2011-11",
          "2011-12",
          "2012-01",
          "2012-02",
          "2012-03",
          "2012-04",
          "2012-05",
          "2012-06",
          "2012-07",
          "2012-08",
          "2012-09",
          "2012-10",
          "2012-11",
          "2012-12",
          "2013-01",
          "2013-02",
          "2013-03",
          "2013-04",
          "2013-05",
          "2013-06",
          "2013-07",
          "2013-08",
          "2013-09",
          "2013-10",
          "2013-11",
          "2013-12",
          "2014-01",
          "2014-02",
          "2014-03",
          "2014-04",
          "2014-05",
          "2014-06",
          "2014-07",
          "2014-08",
          "2014-09",
          "2014-10",
          "2014-11",
          "2014-12",
          "2015-01",
          "2015-02",
          "2015-03",
          "2015-04",
          "2015-05",
          "2015-06",
          "2015-07",
          "2015-08",
          "2015-09",
          "2015-10",
          "2016-03",
          "2016-04",
          "2016-05",
          "2016-06",
          "2016-07",
          "2016-08",
          "2016-09",
          "2016-10",
          "2016-11",
          "2016-12",
          "2017-01",
          "2017-02",
          "2017-03",
          "2017-04",
          "2017-05",
          "2017-06",
          "2017-07",
          "2017-08",
          "2017-09",
          "2017-10"
         ],
         "y": [
          0,
          4.674000000000002,
          51.525999999999605,
          193.00599999999883,
          389.1449999999999,
          684.9910000000008,
          707.7789999999997,
          546.1830000000004,
          595.5069999999987,
          670.6990000000006,
          544.6399999999995,
          402.4519999999996,
          262.5719999999993,
          47.44799999999959,
          96.92699999999932,
          32.52900000000001,
          562.6569999999982,
          425.6229999999994,
          634.6409999999997,
          589.2390000000006,
          591.6859999999996,
          648.4740000000005,
          441.9089999999994,
          269.4019999999986,
          219.13499999999928,
          26.463999999999995,
          48.35200000000001,
          4.886000000000004,
          168.20099999999903,
          418.7879999999988,
          476.1969999999996,
          555.973000000001,
          753.1229999999991,
          619.1189999999992,
          433.792,
          293.16799999999853,
          100.22199999999883,
          10.17300000000001,
          75.82299999999893,
          205.34099999999955,
          460.60200000000054,
          543.5350000000014,
          552.5329999999997,
          738.2920000000005,
          536.6560000000005,
          479.3470000000002,
          475.4759999999994,
          348.91199999999884,
          208.16999999999905,
          68.96699999999998,
          56.27699999999992,
          0,
          296.72699999999935,
          608.406000000001,
          545.2179999999997,
          656.1890000000011,
          694.0480000000001,
          618.0699999999996,
          385.69400000000036,
          112.72499999999975,
          260.28599999999966,
          430.588,
          548.0600000000014,
          516.2980000000003,
          645.8450000000001,
          620.0460000000003,
          320.85399999999976,
          115.17399999999975,
          69.40399999999919,
          191.13899999999958,
          0,
          0,
          98.58999999999996,
          297.052999999999,
          470.49599999999936,
          491.7329999999983,
          393.0689999999984,
          502.48899999999844,
          278.11099999999925,
          240.21799999999942
         ]
        },
        {
         "name": "MAX [kW]",
         "type": "bar",
         "x": [
          "2010-11",
          "2010-12",
          "2011-01",
          "2011-02",
          "2011-03",
          "2011-04",
          "2011-05",
          "2011-06",
          "2011-07",
          "2011-08",
          "2011-09",
          "2011-10",
          "2011-11",
          "2011-12",
          "2012-01",
          "2012-02",
          "2012-03",
          "2012-04",
          "2012-05",
          "2012-06",
          "2012-07",
          "2012-08",
          "2012-09",
          "2012-10",
          "2012-11",
          "2012-12",
          "2013-01",
          "2013-02",
          "2013-03",
          "2013-04",
          "2013-05",
          "2013-06",
          "2013-07",
          "2013-08",
          "2013-09",
          "2013-10",
          "2013-11",
          "2013-12",
          "2014-01",
          "2014-02",
          "2014-03",
          "2014-04",
          "2014-05",
          "2014-06",
          "2014-07",
          "2014-08",
          "2014-09",
          "2014-10",
          "2014-11",
          "2014-12",
          "2015-01",
          "2015-02",
          "2015-03",
          "2015-04",
          "2015-05",
          "2015-06",
          "2015-07",
          "2015-08",
          "2015-09",
          "2015-10",
          "2016-03",
          "2016-04",
          "2016-05",
          "2016-06",
          "2016-07",
          "2016-08",
          "2016-09",
          "2016-10",
          "2016-11",
          "2016-12",
          "2017-01",
          "2017-02",
          "2017-03",
          "2017-04",
          "2017-05",
          "2017-06",
          "2017-07",
          "2017-08",
          "2017-09",
          "2017-10"
         ],
         "y": [
          0,
          2.658,
          2.61,
          3.108,
          3.966,
          4.1819999999999995,
          4.4639999999999995,
          4.428,
          4.182,
          4.38,
          3.726,
          3.468,
          2.754,
          2.2800000000000002,
          2.574,
          2.7,
          3.7560000000000002,
          4.566,
          4.344,
          4.59,
          4.434,
          4.013999999999999,
          3.942,
          3.702,
          2.838,
          2.2920000000000003,
          3.0120000000000005,
          0.8160000000000001,
          4.002000000000001,
          4.338,
          4.176,
          4.5120000000000005,
          4.212,
          4.008,
          4.068,
          3.372,
          2.82,
          1.176,
          2.532,
          3.4859999999999998,
          3.9779999999999998,
          4.098,
          4.452,
          4.356,
          4.314,
          4.038,
          3.9,
          3.3839999999999995,
          2.7239999999999998,
          2.46,
          2.526,
          0,
          3.7140000000000004,
          4.074,
          4.89,
          4.182,
          4.038,
          4.104,
          3.9779999999999998,
          3.54,
          3.8280000000000003,
          4.1160000000000005,
          4.32,
          4.734,
          4.428,
          4.1579999999999995,
          3.732,
          2.778,
          2.682,
          2.4,
          0,
          0,
          2.406,
          2.7539999999999996,
          4.308,
          4.02,
          3.774,
          3.822,
          3.564,
          2.316
         ]
        }
       ],
       "layout": {
        "title": "Montly Aggregation Birchli Yield [kW]"
       }
      },
      "text/html": [
       "<div id=\"b0dd33a8-e91e-4396-9ce2-0d222bcd301c\" style=\"height: 525px; width: 100%;\" class=\"plotly-graph-div\"></div><script type=\"text/javascript\">require([\"plotly\"], function(Plotly) { window.PLOTLYENV=window.PLOTLYENV || {};window.PLOTLYENV.BASE_URL=\"https://plot.ly\";Plotly.newPlot(\"b0dd33a8-e91e-4396-9ce2-0d222bcd301c\", [{\"type\": \"bar\", \"name\": \"SUM [kW]\", \"y\": [0.0, 4.674000000000002, 51.525999999999605, 193.00599999999883, 389.1449999999999, 684.9910000000008, 707.7789999999997, 546.1830000000004, 595.5069999999987, 670.6990000000006, 544.6399999999995, 402.4519999999996, 262.5719999999993, 47.44799999999959, 96.92699999999932, 32.52900000000001, 562.6569999999982, 425.6229999999994, 634.6409999999997, 589.2390000000006, 591.6859999999996, 648.4740000000005, 441.9089999999994, 269.4019999999986, 219.13499999999928, 26.463999999999995, 48.35200000000001, 4.886000000000004, 168.20099999999903, 418.7879999999988, 476.1969999999996, 555.973000000001, 753.1229999999991, 619.1189999999992, 433.792, 293.16799999999853, 100.22199999999883, 10.17300000000001, 75.82299999999893, 205.34099999999955, 460.60200000000054, 543.5350000000014, 552.5329999999997, 738.2920000000005, 536.6560000000005, 479.3470000000002, 475.4759999999994, 348.91199999999884, 208.16999999999905, 68.96699999999998, 56.27699999999992, 0.0, 296.72699999999935, 608.406000000001, 545.2179999999997, 656.1890000000011, 694.0480000000001, 618.0699999999996, 385.69400000000036, 112.72499999999975, 260.28599999999966, 430.588, 548.0600000000014, 516.2980000000003, 645.8450000000001, 620.0460000000003, 320.85399999999976, 115.17399999999975, 69.40399999999919, 191.13899999999958, 0.0, 0.0, 98.58999999999996, 297.052999999999, 470.49599999999936, 491.7329999999983, 393.0689999999984, 502.48899999999844, 278.11099999999925, 240.21799999999942], \"x\": [\"2010-11\", \"2010-12\", \"2011-01\", \"2011-02\", \"2011-03\", \"2011-04\", \"2011-05\", \"2011-06\", \"2011-07\", \"2011-08\", \"2011-09\", \"2011-10\", \"2011-11\", \"2011-12\", \"2012-01\", \"2012-02\", \"2012-03\", \"2012-04\", \"2012-05\", \"2012-06\", \"2012-07\", \"2012-08\", \"2012-09\", \"2012-10\", \"2012-11\", \"2012-12\", \"2013-01\", \"2013-02\", \"2013-03\", \"2013-04\", \"2013-05\", \"2013-06\", \"2013-07\", \"2013-08\", \"2013-09\", \"2013-10\", \"2013-11\", \"2013-12\", \"2014-01\", \"2014-02\", \"2014-03\", \"2014-04\", \"2014-05\", \"2014-06\", \"2014-07\", \"2014-08\", \"2014-09\", \"2014-10\", \"2014-11\", \"2014-12\", \"2015-01\", \"2015-02\", \"2015-03\", \"2015-04\", \"2015-05\", \"2015-06\", \"2015-07\", \"2015-08\", \"2015-09\", \"2015-10\", \"2016-03\", \"2016-04\", \"2016-05\", \"2016-06\", \"2016-07\", \"2016-08\", \"2016-09\", \"2016-10\", \"2016-11\", \"2016-12\", \"2017-01\", \"2017-02\", \"2017-03\", \"2017-04\", \"2017-05\", \"2017-06\", \"2017-07\", \"2017-08\", \"2017-09\", \"2017-10\"]}, {\"type\": \"bar\", \"name\": \"MAX [kW]\", \"y\": [0.0, 2.658, 2.61, 3.108, 3.966, 4.1819999999999995, 4.4639999999999995, 4.428, 4.182, 4.38, 3.726, 3.468, 2.754, 2.2800000000000002, 2.574, 2.7, 3.7560000000000002, 4.566, 4.344, 4.59, 4.434, 4.013999999999999, 3.942, 3.702, 2.838, 2.2920000000000003, 3.0120000000000005, 0.8160000000000001, 4.002000000000001, 4.338, 4.176, 4.5120000000000005, 4.212, 4.008, 4.068, 3.372, 2.82, 1.176, 2.532, 3.4859999999999998, 3.9779999999999998, 4.098, 4.452, 4.356, 4.314, 4.038, 3.9, 3.3839999999999995, 2.7239999999999998, 2.46, 2.526, 0.0, 3.7140000000000004, 4.074, 4.89, 4.182, 4.038, 4.104, 3.9779999999999998, 3.54, 3.8280000000000003, 4.1160000000000005, 4.32, 4.734, 4.428, 4.1579999999999995, 3.732, 2.778, 2.682, 2.4, 0.0, 0.0, 2.406, 2.7539999999999996, 4.308, 4.02, 3.774, 3.822, 3.564, 2.316], \"x\": [\"2010-11\", \"2010-12\", \"2011-01\", \"2011-02\", \"2011-03\", \"2011-04\", \"2011-05\", \"2011-06\", \"2011-07\", \"2011-08\", \"2011-09\", \"2011-10\", \"2011-11\", \"2011-12\", \"2012-01\", \"2012-02\", \"2012-03\", \"2012-04\", \"2012-05\", \"2012-06\", \"2012-07\", \"2012-08\", \"2012-09\", \"2012-10\", \"2012-11\", \"2012-12\", \"2013-01\", \"2013-02\", \"2013-03\", \"2013-04\", \"2013-05\", \"2013-06\", \"2013-07\", \"2013-08\", \"2013-09\", \"2013-10\", \"2013-11\", \"2013-12\", \"2014-01\", \"2014-02\", \"2014-03\", \"2014-04\", \"2014-05\", \"2014-06\", \"2014-07\", \"2014-08\", \"2014-09\", \"2014-10\", \"2014-11\", \"2014-12\", \"2015-01\", \"2015-02\", \"2015-03\", \"2015-04\", \"2015-05\", \"2015-06\", \"2015-07\", \"2015-08\", \"2015-09\", \"2015-10\", \"2016-03\", \"2016-04\", \"2016-05\", \"2016-06\", \"2016-07\", \"2016-08\", \"2016-09\", \"2016-10\", \"2016-11\", \"2016-12\", \"2017-01\", \"2017-02\", \"2017-03\", \"2017-04\", \"2017-05\", \"2017-06\", \"2017-07\", \"2017-08\", \"2017-09\", \"2017-10\"]}], {\"title\": \"Montly Aggregation Birchli Yield [kW]\"}, {\"linkText\": \"Export to plot.ly\", \"showLink\": true})});</script>"
      ],
      "text/vnd.plotly.v1+html": [
       "<div id=\"b0dd33a8-e91e-4396-9ce2-0d222bcd301c\" style=\"height: 525px; width: 100%;\" class=\"plotly-graph-div\"></div><script type=\"text/javascript\">require([\"plotly\"], function(Plotly) { window.PLOTLYENV=window.PLOTLYENV || {};window.PLOTLYENV.BASE_URL=\"https://plot.ly\";Plotly.newPlot(\"b0dd33a8-e91e-4396-9ce2-0d222bcd301c\", [{\"type\": \"bar\", \"name\": \"SUM [kW]\", \"y\": [0.0, 4.674000000000002, 51.525999999999605, 193.00599999999883, 389.1449999999999, 684.9910000000008, 707.7789999999997, 546.1830000000004, 595.5069999999987, 670.6990000000006, 544.6399999999995, 402.4519999999996, 262.5719999999993, 47.44799999999959, 96.92699999999932, 32.52900000000001, 562.6569999999982, 425.6229999999994, 634.6409999999997, 589.2390000000006, 591.6859999999996, 648.4740000000005, 441.9089999999994, 269.4019999999986, 219.13499999999928, 26.463999999999995, 48.35200000000001, 4.886000000000004, 168.20099999999903, 418.7879999999988, 476.1969999999996, 555.973000000001, 753.1229999999991, 619.1189999999992, 433.792, 293.16799999999853, 100.22199999999883, 10.17300000000001, 75.82299999999893, 205.34099999999955, 460.60200000000054, 543.5350000000014, 552.5329999999997, 738.2920000000005, 536.6560000000005, 479.3470000000002, 475.4759999999994, 348.91199999999884, 208.16999999999905, 68.96699999999998, 56.27699999999992, 0.0, 296.72699999999935, 608.406000000001, 545.2179999999997, 656.1890000000011, 694.0480000000001, 618.0699999999996, 385.69400000000036, 112.72499999999975, 260.28599999999966, 430.588, 548.0600000000014, 516.2980000000003, 645.8450000000001, 620.0460000000003, 320.85399999999976, 115.17399999999975, 69.40399999999919, 191.13899999999958, 0.0, 0.0, 98.58999999999996, 297.052999999999, 470.49599999999936, 491.7329999999983, 393.0689999999984, 502.48899999999844, 278.11099999999925, 240.21799999999942], \"x\": [\"2010-11\", \"2010-12\", \"2011-01\", \"2011-02\", \"2011-03\", \"2011-04\", \"2011-05\", \"2011-06\", \"2011-07\", \"2011-08\", \"2011-09\", \"2011-10\", \"2011-11\", \"2011-12\", \"2012-01\", \"2012-02\", \"2012-03\", \"2012-04\", \"2012-05\", \"2012-06\", \"2012-07\", \"2012-08\", \"2012-09\", \"2012-10\", \"2012-11\", \"2012-12\", \"2013-01\", \"2013-02\", \"2013-03\", \"2013-04\", \"2013-05\", \"2013-06\", \"2013-07\", \"2013-08\", \"2013-09\", \"2013-10\", \"2013-11\", \"2013-12\", \"2014-01\", \"2014-02\", \"2014-03\", \"2014-04\", \"2014-05\", \"2014-06\", \"2014-07\", \"2014-08\", \"2014-09\", \"2014-10\", \"2014-11\", \"2014-12\", \"2015-01\", \"2015-02\", \"2015-03\", \"2015-04\", \"2015-05\", \"2015-06\", \"2015-07\", \"2015-08\", \"2015-09\", \"2015-10\", \"2016-03\", \"2016-04\", \"2016-05\", \"2016-06\", \"2016-07\", \"2016-08\", \"2016-09\", \"2016-10\", \"2016-11\", \"2016-12\", \"2017-01\", \"2017-02\", \"2017-03\", \"2017-04\", \"2017-05\", \"2017-06\", \"2017-07\", \"2017-08\", \"2017-09\", \"2017-10\"]}, {\"type\": \"bar\", \"name\": \"MAX [kW]\", \"y\": [0.0, 2.658, 2.61, 3.108, 3.966, 4.1819999999999995, 4.4639999999999995, 4.428, 4.182, 4.38, 3.726, 3.468, 2.754, 2.2800000000000002, 2.574, 2.7, 3.7560000000000002, 4.566, 4.344, 4.59, 4.434, 4.013999999999999, 3.942, 3.702, 2.838, 2.2920000000000003, 3.0120000000000005, 0.8160000000000001, 4.002000000000001, 4.338, 4.176, 4.5120000000000005, 4.212, 4.008, 4.068, 3.372, 2.82, 1.176, 2.532, 3.4859999999999998, 3.9779999999999998, 4.098, 4.452, 4.356, 4.314, 4.038, 3.9, 3.3839999999999995, 2.7239999999999998, 2.46, 2.526, 0.0, 3.7140000000000004, 4.074, 4.89, 4.182, 4.038, 4.104, 3.9779999999999998, 3.54, 3.8280000000000003, 4.1160000000000005, 4.32, 4.734, 4.428, 4.1579999999999995, 3.732, 2.778, 2.682, 2.4, 0.0, 0.0, 2.406, 2.7539999999999996, 4.308, 4.02, 3.774, 3.822, 3.564, 2.316], \"x\": [\"2010-11\", \"2010-12\", \"2011-01\", \"2011-02\", \"2011-03\", \"2011-04\", \"2011-05\", \"2011-06\", \"2011-07\", \"2011-08\", \"2011-09\", \"2011-10\", \"2011-11\", \"2011-12\", \"2012-01\", \"2012-02\", \"2012-03\", \"2012-04\", \"2012-05\", \"2012-06\", \"2012-07\", \"2012-08\", \"2012-09\", \"2012-10\", \"2012-11\", \"2012-12\", \"2013-01\", \"2013-02\", \"2013-03\", \"2013-04\", \"2013-05\", \"2013-06\", \"2013-07\", \"2013-08\", \"2013-09\", \"2013-10\", \"2013-11\", \"2013-12\", \"2014-01\", \"2014-02\", \"2014-03\", \"2014-04\", \"2014-05\", \"2014-06\", \"2014-07\", \"2014-08\", \"2014-09\", \"2014-10\", \"2014-11\", \"2014-12\", \"2015-01\", \"2015-02\", \"2015-03\", \"2015-04\", \"2015-05\", \"2015-06\", \"2015-07\", \"2015-08\", \"2015-09\", \"2015-10\", \"2016-03\", \"2016-04\", \"2016-05\", \"2016-06\", \"2016-07\", \"2016-08\", \"2016-09\", \"2016-10\", \"2016-11\", \"2016-12\", \"2017-01\", \"2017-02\", \"2017-03\", \"2017-04\", \"2017-05\", \"2017-06\", \"2017-07\", \"2017-08\", \"2017-09\", \"2017-10\"]}], {\"title\": \"Montly Aggregation Birchli Yield [kW]\"}, {\"linkText\": \"Export to plot.ly\", \"showLink\": true})});</script>"
      ]
     },
     "metadata": {},
     "output_type": "display_data"
    }
   ],
   "source": [
    "# Careful this plot takes a while to render\n",
    "import plotly\n",
    "from plotly.offline import download_plotlyjs, init_notebook_mode, plot, iplot\n",
    "from plotly.graph_objs import *\n",
    "init_notebook_mode(connected=True) #need to use plotly offline\n",
    "\n",
    "data = Data([Bar(x=df_month.index, y=df_month.yield_tot, name='SUM [kW]'),\n",
    "             Bar(x=df_month.index, y=df_month.yield_max, name='MAX [kW]')])\n",
    "             \n",
    "\n",
    "iplot(Figure(data=data, layout= Layout(title='Montly Aggregation Birchli Yield [kW]')))"
   ]
  },
  {
   "cell_type": "markdown",
   "metadata": {},
   "source": [
    "### Yearly Aggregation (sum,max,min,mean,median)"
   ]
  },
  {
   "cell_type": "code",
   "execution_count": 100,
   "metadata": {},
   "outputs": [],
   "source": [
    "# Build Dayli Aggregation with sum, max, min, mean\n",
    "df_year = pd.DataFrame(dfc.groupby('year')['yield_tot'].sum()/6) # Korrekture 10 min Wertebasis\n",
    "df_year['yield_max'] = dfc.groupby('year')['yield_tot'].max()\n",
    "df_year['yield_median'] = dfc.groupby('year')['yield_tot'].median()\n",
    "df_year['yield_mean'] = dfc.groupby('year')['yield_tot'].mean()"
   ]
  },
  {
   "cell_type": "code",
   "execution_count": 101,
   "metadata": {},
   "outputs": [
    {
     "name": "stdout",
     "output_type": "stream",
     "text": [
      "Ertrags Median = 4256 [kWh]\n",
      "Spezifischer Ertrag = 852 [kWh/kwp]\n"
     ]
    }
   ],
   "source": [
    "# Drope 2010 und 2017 da diese nicht volständig sind\n",
    "df_year = df_year[(df_year.index != '2010') & (df_year.index != '2017')]\n",
    "yield_median = round(df_year.yield_tot.median())\n",
    "spez_yield = round(yield_median / (0.179*27.9))\n",
    "print('Ertrags Median = ' + str(yield_median) +' [kWh]')\n",
    "print('Spezifischer Ertrag = ' + str(spez_yield) + ' [kWh/kwp]')"
   ]
  },
  {
   "cell_type": "code",
   "execution_count": 102,
   "metadata": {},
   "outputs": [
    {
     "data": {
      "image/png": "[encoded data removed]",
      "text/plain": [
       "<matplotlib.figure.Figure at 0x995ae26c>"
      ]
     },
     "metadata": {},
     "output_type": "display_data"
    }
   ],
   "source": [
    "\n",
    "# Time Series Plot\n",
    "plt.figure(figsize = (12,6))\n",
    "plt.bar(df_year.index, df_year.yield_tot,)\n",
    "plt.ylabel(\"Ertrag [kWh]\",size=14)\n",
    "plt.xlabel(\"Jahr\",size=14)\n",
    "plt.title('Jahres Ertrag der PV Anlage \"Birchli\" [kWh]')\n",
    "plt.axhline(yield_median,ls='dotted',label=\"Median [kWh] = \" + str(yield_median), color='b')\n",
    "plt.legend()\n",
    "plt.savefig(\"birchli_jahresertrag.pdf\")\n",
    "plt.show()\n"
   ]
  },
  {
   "cell_type": "markdown",
   "metadata": {},
   "source": [
    "# Analytical Questions & Hypoteses\n",
    "## Hypoteses\n",
    "1. Die Spiezenwerte (max) der produzierten Leistung nehmen über die Jahre ab. "
   ]
  },
  {
   "cell_type": "markdown",
   "metadata": {},
   "source": [
    "### Abnahme der Spizenwerte (max) über die Zeit\n",
    "Die Idee bei der Verwendeung der Maximalwerten einer gewissen Jahreszeit ist, dass wir hier nur schöne Tage vergleichen. So sollte die Vergelichbarkeit gegeben sein.\n",
    "\n",
    "Vergleichen der Tages Maximas aller Jahre (Distanz)\n"
   ]
  },
  {
   "cell_type": "code",
   "execution_count": 19,
   "metadata": {},
   "outputs": [],
   "source": [
    "\n",
    "#print(df_day[('11-30' in df_day.index)].yield_max)"
   ]
  }
 ],
 "metadata": {
  "kernelspec": {
   "display_name": "Python 3",
   "language": "python",
   "name": "python3"
  },
  "language_info": {
   "codemirror_mode": {
    "name": "ipython",
    "version": 3
   },
   "file_extension": ".py",
   "mimetype": "text/x-python",
   "name": "python",
   "nbconvert_exporter": "python",
   "pygments_lexer": "ipython3",
   "version": "3.5.2"
  }
 },
 "nbformat": 4,
 "nbformat_minor": 2
}
