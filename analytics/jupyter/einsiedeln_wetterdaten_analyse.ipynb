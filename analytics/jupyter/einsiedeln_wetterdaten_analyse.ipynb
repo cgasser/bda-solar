{
 "cells": [
  {
   "cell_type": "markdown",
   "metadata": {},
   "source": [
    "# Meteo Wetterdaten Analyse"
   ]
  },
  {
   "cell_type": "markdown",
   "metadata": {},
   "source": [
    "## Import"
   ]
  },
  {
   "cell_type": "markdown",
   "metadata": {},
   "source": [
    "More information about impyla see here: https://github.com/cloudera/impyla."
   ]
  },
  {
   "cell_type": "code",
   "execution_count": 1,
   "metadata": {},
   "outputs": [],
   "source": [
    "from impala.dbapi import connect \n",
    "from impala.util import as_pandas\n",
    "import pandas as pd # For Data Handling\n",
    "import numpy as np  # data processing, CSV file I/O (e.g. pd.read_csv)\n",
    "import math as mt\n",
    "import datetime as dt # To convert timestamp data\n",
    "import matplotlib   #for plots\n",
    "import matplotlib.pyplot as plt\n",
    "import seaborn as sns\n",
    "\n",
    "sns.set(color_codes=True)\n",
    "matplotlib.style.use('ggplot')\n",
    "%matplotlib inline"
   ]
  },
  {
   "cell_type": "markdown",
   "metadata": {},
   "source": [
    "## Connect to DataHost wh-02 (172.16.10.102)"
   ]
  },
  {
   "cell_type": "markdown",
   "metadata": {},
   "source": [
    "Connect to Impala and execute show tables to see all avilable tables."
   ]
  },
  {
   "cell_type": "code",
   "execution_count": 2,
   "metadata": {},
   "outputs": [
    {
     "data": {
      "text/html": [
       "<div>\n",
       "<style scoped>\n",
       "    .dataframe tbody tr th:only-of-type {\n",
       "        vertical-align: middle;\n",
       "    }\n",
       "\n",
       "    .dataframe tbody tr th {\n",
       "        vertical-align: top;\n",
       "    }\n",
       "\n",
       "    .dataframe thead th {\n",
       "        text-align: right;\n",
       "    }\n",
       "</style>\n",
       "<table border=\"1\" class=\"dataframe\">\n",
       "  <thead>\n",
       "    <tr style=\"text-align: right;\">\n",
       "      <th></th>\n",
       "      <th>name</th>\n",
       "    </tr>\n",
       "  </thead>\n",
       "  <tbody>\n",
       "    <tr>\n",
       "      <th>0</th>\n",
       "      <td>birchli_roh</td>\n",
       "    </tr>\n",
       "    <tr>\n",
       "      <th>1</th>\n",
       "      <td>meteo_einsiedeln</td>\n",
       "    </tr>\n",
       "    <tr>\n",
       "      <th>2</th>\n",
       "      <td>open_weather_6340_1513956438</td>\n",
       "    </tr>\n",
       "    <tr>\n",
       "      <th>3</th>\n",
       "      <td>solarlog</td>\n",
       "    </tr>\n",
       "    <tr>\n",
       "      <th>4</th>\n",
       "      <td>solarlog_roh</td>\n",
       "    </tr>\n",
       "  </tbody>\n",
       "</table>\n",
       "</div>"
      ],
      "text/plain": [
       "                           name\n",
       "0                   birchli_roh\n",
       "1              meteo_einsiedeln\n",
       "2  open_weather_6340_1513956438\n",
       "3                      solarlog\n",
       "4                  solarlog_roh"
      ]
     },
     "execution_count": 2,
     "metadata": {},
     "output_type": "execute_result"
    }
   ],
   "source": [
    "# jdbc:impala://zhhaphmp-hala01.it.bwns.ch:21050;AuthMech=0;\n",
    "conn = connect(host='172.16.10.102', port=21050)\n",
    "cur = conn.cursor()\n",
    "cur.execute('SHOW TABLES')\n",
    "dfp = as_pandas(cur)\n",
    "cur.close()\n",
    "#To see all tables tip only dfp without .head()\n",
    "dfp.head()"
   ]
  },
  {
   "cell_type": "markdown",
   "metadata": {},
   "source": [
    "Connect to DataNode and show 5 entries from the solarlog_roh table."
   ]
  },
  {
   "cell_type": "code",
   "execution_count": 3,
   "metadata": {},
   "outputs": [
    {
     "data": {
      "text/html": [
       "<div>\n",
       "<style scoped>\n",
       "    .dataframe tbody tr th:only-of-type {\n",
       "        vertical-align: middle;\n",
       "    }\n",
       "\n",
       "    .dataframe tbody tr th {\n",
       "        vertical-align: top;\n",
       "    }\n",
       "\n",
       "    .dataframe thead th {\n",
       "        text-align: right;\n",
       "    }\n",
       "</style>\n",
       "<table border=\"1\" class=\"dataframe\">\n",
       "  <thead>\n",
       "    <tr style=\"text-align: right;\">\n",
       "      <th></th>\n",
       "      <th>station</th>\n",
       "      <th>time</th>\n",
       "      <th>uto200s0</th>\n",
       "      <th>tre200s0</th>\n",
       "      <th>hto000s0</th>\n",
       "      <th>gre000z0</th>\n",
       "      <th>rre150z0</th>\n",
       "      <th>sre000z0</th>\n",
       "    </tr>\n",
       "  </thead>\n",
       "  <tbody>\n",
       "    <tr>\n",
       "      <th>0</th>\n",
       "      <td>EIN</td>\n",
       "      <td>201201010000</td>\n",
       "      <td>-</td>\n",
       "      <td>-</td>\n",
       "      <td>-</td>\n",
       "      <td>-</td>\n",
       "      <td>-</td>\n",
       "      <td>-</td>\n",
       "    </tr>\n",
       "    <tr>\n",
       "      <th>1</th>\n",
       "      <td>EIN</td>\n",
       "      <td>201201010010</td>\n",
       "      <td>-</td>\n",
       "      <td>-</td>\n",
       "      <td>-</td>\n",
       "      <td>-</td>\n",
       "      <td>-</td>\n",
       "      <td>-</td>\n",
       "    </tr>\n",
       "    <tr>\n",
       "      <th>2</th>\n",
       "      <td>EIN</td>\n",
       "      <td>201201010020</td>\n",
       "      <td>-</td>\n",
       "      <td>-</td>\n",
       "      <td>-</td>\n",
       "      <td>-</td>\n",
       "      <td>-</td>\n",
       "      <td>-</td>\n",
       "    </tr>\n",
       "    <tr>\n",
       "      <th>3</th>\n",
       "      <td>EIN</td>\n",
       "      <td>201201010030</td>\n",
       "      <td>-</td>\n",
       "      <td>-</td>\n",
       "      <td>-</td>\n",
       "      <td>-</td>\n",
       "      <td>-</td>\n",
       "      <td>-</td>\n",
       "    </tr>\n",
       "    <tr>\n",
       "      <th>4</th>\n",
       "      <td>EIN</td>\n",
       "      <td>201201010040</td>\n",
       "      <td>-</td>\n",
       "      <td>-</td>\n",
       "      <td>-</td>\n",
       "      <td>-</td>\n",
       "      <td>-</td>\n",
       "      <td>-</td>\n",
       "    </tr>\n",
       "  </tbody>\n",
       "</table>\n",
       "</div>"
      ],
      "text/plain": [
       "  station          time uto200s0 tre200s0 hto000s0 gre000z0 rre150z0 sre000z0\n",
       "0     EIN  201201010000        -        -        -        -        -        -\n",
       "1     EIN  201201010010        -        -        -        -        -        -\n",
       "2     EIN  201201010020        -        -        -        -        -        -\n",
       "3     EIN  201201010030        -        -        -        -        -        -\n",
       "4     EIN  201201010040        -        -        -        -        -        -"
      ]
     },
     "execution_count": 3,
     "metadata": {},
     "output_type": "execute_result"
    }
   ],
   "source": [
    "#Test other aproach to select\n",
    "# jdbc:impala://zhhaphmp-hala01.it.bwns.ch:21050;AuthMech=0;\n",
    "conn = connect(host='172.16.10.102', port=21050)\n",
    "cur = conn.cursor()\n",
    "cur.execute('SELECT * FROM meteo_einsiedeln order by time')\n",
    "df = as_pandas(cur)\n",
    "cur.close()\n",
    "conn.close()\n",
    "#To see all tables tip only dfp without .head()\n",
    "df.head()"
   ]
  },
  {
   "cell_type": "code",
   "execution_count": 4,
   "metadata": {},
   "outputs": [
    {
     "data": {
      "text/plain": [
       "317232"
      ]
     },
     "execution_count": 4,
     "metadata": {},
     "output_type": "execute_result"
    }
   ],
   "source": [
    "len(df)"
   ]
  },
  {
   "cell_type": "code",
   "execution_count": 5,
   "metadata": {},
   "outputs": [
    {
     "data": {
      "text/plain": [
       "count     317232\n",
       "unique      1156\n",
       "top            0\n",
       "freq      152224\n",
       "Name: gre000z0, dtype: object"
      ]
     },
     "execution_count": 5,
     "metadata": {},
     "output_type": "execute_result"
    }
   ],
   "source": [
    "df['globalstrahlung'] = pd.to_numeric(df['gre000z0'], errors='coerce')\n",
    "df.gre000z0.describe()"
   ]
  },
  {
   "cell_type": "code",
   "execution_count": 6,
   "metadata": {},
   "outputs": [
    {
     "data": {
      "text/plain": [
       "count    306225.000000\n",
       "mean          7.854601\n",
       "std           7.811333\n",
       "min         -23.300000\n",
       "25%           1.700000\n",
       "50%           7.900000\n",
       "75%          13.600000\n",
       "max          31.100000\n",
       "Name: lufttemperatur, dtype: float64"
      ]
     },
     "execution_count": 6,
     "metadata": {},
     "output_type": "execute_result"
    }
   ],
   "source": [
    "df['lufttemperatur'] = pd.to_numeric(df['tre200s0'], errors='coerce')\n",
    "df.lufttemperatur.describe()"
   ]
  },
  {
   "cell_type": "code",
   "execution_count": 7,
   "metadata": {},
   "outputs": [],
   "source": [
    "#df['timestamp'] = pd.to_datetime(df['time'],format='%y%m%d%H%M')"
   ]
  },
  {
   "cell_type": "code",
   "execution_count": 8,
   "metadata": {},
   "outputs": [
    {
     "data": {
      "image/png": "[encoded data removed]",
      "text/plain": [
       "<matplotlib.figure.Figure at 0x9dfb650c>"
      ]
     },
     "metadata": {},
     "output_type": "display_data"
    }
   ],
   "source": [
    "# Time Series Plot\n",
    "plt.figure(figsize = (15,8))\n",
    "plt.plot(df.time,df.globalstrahlung)\n",
    "plt.ylabel(\"Globalstrahlung [W/m2]\",size=14)\n",
    "plt.xlabel(\"Time\",size=14)\n",
    "plt.show()"
   ]
  },
  {
   "cell_type": "code",
   "execution_count": 9,
   "metadata": {},
   "outputs": [
    {
     "data": {
      "image/png": "[encoded data removed]",
      "text/plain": [
       "<matplotlib.figure.Figure at 0xb45b070c>"
      ]
     },
     "metadata": {},
     "output_type": "display_data"
    }
   ],
   "source": [
    "# Time Series Plot\n",
    "plt.figure(figsize = (15,8))\n",
    "plt.plot(df.time,df.lufttemperatur)\n",
    "plt.ylabel(\"Lufttemperatur [°C]\",size=14)\n",
    "plt.xlabel(\"Time\",size=14)\n",
    "plt.show()"
   ]
  }
 ],
 "metadata": {
  "kernelspec": {
   "display_name": "Python 3",
   "language": "python",
   "name": "python3"
  },
  "language_info": {
   "codemirror_mode": {
    "name": "ipython",
    "version": 3
   },
   "file_extension": ".py",
   "mimetype": "text/x-python",
   "name": "python",
   "nbconvert_exporter": "python",
   "pygments_lexer": "ipython3",
   "version": "3.5.2"
  }
 },
 "nbformat": 4,
 "nbformat_minor": 2
}
